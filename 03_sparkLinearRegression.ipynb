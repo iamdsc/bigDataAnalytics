{
  "nbformat": 4,
  "nbformat_minor": 0,
  "metadata": {
    "colab": {
      "name": "03_sparkLinearRegression",
      "version": "0.3.2",
      "provenance": []
    },
    "kernelspec": {
      "name": "python3",
      "display_name": "Python 3"
    },
    "accelerator": "GPU"
  },
  "cells": [
    {
      "cell_type": "code",
      "metadata": {
        "id": "r3cwrdAQTEUv",
        "colab_type": "code",
        "colab": {}
      },
      "source": [
        "!apt-get install openjdk-8-jdk-headless -qq > /dev/null\n",
        "!wget -q http://www-eu.apache.org/dist/spark/spark-2.3.3/spark-2.3.3-bin-hadoop2.7.tgz\n",
        "!tar xf spark-2.3.3-bin-hadoop2.7.tgz\n",
        "!pip install -q findspark"
      ],
      "execution_count": 0,
      "outputs": []
    },
    {
      "cell_type": "code",
      "metadata": {
        "id": "alonhM-CTYPy",
        "colab_type": "code",
        "colab": {}
      },
      "source": [
        "import os\n",
        "os.environ[\"JAVA_HOME\"] = \"/usr/lib/jvm/java-8-openjdk-amd64\"\n",
        "os.environ[\"SPARK_HOME\"] = \"/content/spark-2.3.3-bin-hadoop2.7\""
      ],
      "execution_count": 0,
      "outputs": []
    },
    {
      "cell_type": "code",
      "metadata": {
        "id": "r1pTfxjCTbx6",
        "colab_type": "code",
        "colab": {}
      },
      "source": [
        "import findspark\n",
        "findspark.init()\n",
        "from pyspark.sql import SparkSession"
      ],
      "execution_count": 0,
      "outputs": []
    },
    {
      "cell_type": "code",
      "metadata": {
        "id": "bfep4bovTe72",
        "colab_type": "code",
        "colab": {}
      },
      "source": [
        "# Create a spark session\n",
        "spark = SparkSession.builder.appName('lrex').getOrCreate()"
      ],
      "execution_count": 0,
      "outputs": []
    },
    {
      "cell_type": "code",
      "metadata": {
        "id": "VK5EQJDDT1b7",
        "colab_type": "code",
        "colab": {}
      },
      "source": [
        "from pyspark.ml.regression import LinearRegression"
      ],
      "execution_count": 0,
      "outputs": []
    },
    {
      "cell_type": "code",
      "metadata": {
        "id": "v4R4IwmSUARc",
        "colab_type": "code",
        "colab": {}
      },
      "source": [
        "training = spark.read.format('libsvm').load('sample_linear_regression_data.txt')"
      ],
      "execution_count": 0,
      "outputs": []
    },
    {
      "cell_type": "code",
      "metadata": {
        "id": "dDWyRwLdV8Hl",
        "colab_type": "code",
        "outputId": "03c38fbd-634f-41d9-a171-40b4a519dccc",
        "colab": {
          "base_uri": "https://localhost:8080/",
          "height": 495
        }
      },
      "source": [
        "training.show()"
      ],
      "execution_count": 8,
      "outputs": [
        {
          "output_type": "stream",
          "text": [
            "+-------------------+--------------------+\n",
            "|              label|            features|\n",
            "+-------------------+--------------------+\n",
            "| -9.490009878824548|(10,[0,1,2,3,4,5,...|\n",
            "| 0.2577820163584905|(10,[0,1,2,3,4,5,...|\n",
            "| -4.438869807456516|(10,[0,1,2,3,4,5,...|\n",
            "|-19.782762789614537|(10,[0,1,2,3,4,5,...|\n",
            "| -7.966593841555266|(10,[0,1,2,3,4,5,...|\n",
            "| -7.896274316726144|(10,[0,1,2,3,4,5,...|\n",
            "| -8.464803554195287|(10,[0,1,2,3,4,5,...|\n",
            "| 2.1214592666251364|(10,[0,1,2,3,4,5,...|\n",
            "| 1.0720117616524107|(10,[0,1,2,3,4,5,...|\n",
            "|-13.772441561702871|(10,[0,1,2,3,4,5,...|\n",
            "| -5.082010756207233|(10,[0,1,2,3,4,5,...|\n",
            "|  7.887786536531237|(10,[0,1,2,3,4,5,...|\n",
            "| 14.323146365332388|(10,[0,1,2,3,4,5,...|\n",
            "|-20.057482615789212|(10,[0,1,2,3,4,5,...|\n",
            "|-0.8995693247765151|(10,[0,1,2,3,4,5,...|\n",
            "| -19.16829262296376|(10,[0,1,2,3,4,5,...|\n",
            "|  5.601801561245534|(10,[0,1,2,3,4,5,...|\n",
            "|-3.2256352187273354|(10,[0,1,2,3,4,5,...|\n",
            "| 1.5299675726687754|(10,[0,1,2,3,4,5,...|\n",
            "| -0.250102447941961|(10,[0,1,2,3,4,5,...|\n",
            "+-------------------+--------------------+\n",
            "only showing top 20 rows\n",
            "\n"
          ],
          "name": "stdout"
        }
      ]
    },
    {
      "cell_type": "code",
      "metadata": {
        "id": "fyMpMyxmWC4e",
        "colab_type": "code",
        "colab": {}
      },
      "source": [
        "# Creating instance of the model\n",
        "lr = LinearRegression(featuresCol='features', labelCol='label',\n",
        "                      predictionCol='prediction')"
      ],
      "execution_count": 0,
      "outputs": []
    },
    {
      "cell_type": "code",
      "metadata": {
        "id": "fu5pCUkkWh8y",
        "colab_type": "code",
        "colab": {}
      },
      "source": [
        "lrModel = lr.fit(training)"
      ],
      "execution_count": 0,
      "outputs": []
    },
    {
      "cell_type": "code",
      "metadata": {
        "id": "NU2nN4dhWnQU",
        "colab_type": "code",
        "outputId": "44ad5f53-62ff-4287-83d7-00e4fe689b3d",
        "colab": {
          "base_uri": "https://localhost:8080/",
          "height": 35
        }
      },
      "source": [
        "lrModel.coefficients"
      ],
      "execution_count": 11,
      "outputs": [
        {
          "output_type": "execute_result",
          "data": {
            "text/plain": [
              "DenseVector([0.0073, 0.8314, -0.8095, 2.4412, 0.5192, 1.1535, -0.2989, -0.5129, -0.6197, 0.6956])"
            ]
          },
          "metadata": {
            "tags": []
          },
          "execution_count": 11
        }
      ]
    },
    {
      "cell_type": "code",
      "metadata": {
        "id": "JWYGELJyWsaJ",
        "colab_type": "code",
        "outputId": "89911e5c-068a-4853-bfb1-1ee5faa60bf5",
        "colab": {
          "base_uri": "https://localhost:8080/",
          "height": 35
        }
      },
      "source": [
        "lrModel.intercept"
      ],
      "execution_count": 12,
      "outputs": [
        {
          "output_type": "execute_result",
          "data": {
            "text/plain": [
              "0.14228558260358093"
            ]
          },
          "metadata": {
            "tags": []
          },
          "execution_count": 12
        }
      ]
    },
    {
      "cell_type": "code",
      "metadata": {
        "id": "4eXpSSh-WwOa",
        "colab_type": "code",
        "colab": {}
      },
      "source": [
        "training_summary = lrModel.summary"
      ],
      "execution_count": 0,
      "outputs": []
    },
    {
      "cell_type": "code",
      "metadata": {
        "id": "ngXdVbmHW2Wm",
        "colab_type": "code",
        "outputId": "a3b06ef6-1b64-4dd0-da7e-e81b49b111f9",
        "colab": {
          "base_uri": "https://localhost:8080/",
          "height": 35
        }
      },
      "source": [
        "training_summary.r2 #Variance explained by model"
      ],
      "execution_count": 14,
      "outputs": [
        {
          "output_type": "execute_result",
          "data": {
            "text/plain": [
              "0.027839179518600154"
            ]
          },
          "metadata": {
            "tags": []
          },
          "execution_count": 14
        }
      ]
    },
    {
      "cell_type": "code",
      "metadata": {
        "id": "lRuN0n30XEei",
        "colab_type": "code",
        "outputId": "8c8ca1ea-55b0-4668-a3f1-ecd94078f966",
        "colab": {
          "base_uri": "https://localhost:8080/",
          "height": 35
        }
      },
      "source": [
        "training_summary.rootMeanSquaredError"
      ],
      "execution_count": 15,
      "outputs": [
        {
          "output_type": "execute_result",
          "data": {
            "text/plain": [
              "10.16309157133015"
            ]
          },
          "metadata": {
            "tags": []
          },
          "execution_count": 15
        }
      ]
    },
    {
      "cell_type": "code",
      "metadata": {
        "id": "7DW2OyvbXK9x",
        "colab_type": "code",
        "colab": {}
      },
      "source": [
        "all_data = spark.read.format('libsvm').load('sample_linear_regression_data.txt')"
      ],
      "execution_count": 0,
      "outputs": []
    },
    {
      "cell_type": "code",
      "metadata": {
        "id": "fJTDAxioXZQe",
        "colab_type": "code",
        "colab": {}
      },
      "source": [
        "train_data, test_data = all_data.randomSplit([0.7,0.3]) #train-test split "
      ],
      "execution_count": 0,
      "outputs": []
    },
    {
      "cell_type": "code",
      "metadata": {
        "id": "6BLrahTsXikV",
        "colab_type": "code",
        "outputId": "112e5f3d-cd6c-4748-f7b0-f2411171dac6",
        "colab": {
          "base_uri": "https://localhost:8080/",
          "height": 201
        }
      },
      "source": [
        "train_data.describe().show()"
      ],
      "execution_count": 21,
      "outputs": [
        {
          "output_type": "stream",
          "text": [
            "+-------+-------------------+\n",
            "|summary|              label|\n",
            "+-------+-------------------+\n",
            "|  count|                346|\n",
            "|   mean|0.21873187608174244|\n",
            "| stddev| 10.034404181082776|\n",
            "|    min| -23.51088409032297|\n",
            "|    max| 27.111027963108548|\n",
            "+-------+-------------------+\n",
            "\n"
          ],
          "name": "stdout"
        }
      ]
    },
    {
      "cell_type": "code",
      "metadata": {
        "id": "P1Occ5G4Xydv",
        "colab_type": "code",
        "outputId": "d44742fc-9947-4aa9-dd6a-4d6d6f5f48e5",
        "colab": {
          "base_uri": "https://localhost:8080/",
          "height": 201
        }
      },
      "source": [
        "test_data.describe().show()"
      ],
      "execution_count": 22,
      "outputs": [
        {
          "output_type": "stream",
          "text": [
            "+-------+-------------------+\n",
            "|summary|              label|\n",
            "+-------+-------------------+\n",
            "|  count|                155|\n",
            "|   mean|0.34206497287359655|\n",
            "| stddev| 10.957396821209096|\n",
            "|    min|-28.571478869743427|\n",
            "|    max|  27.78383192005107|\n",
            "+-------+-------------------+\n",
            "\n"
          ],
          "name": "stdout"
        }
      ]
    },
    {
      "cell_type": "code",
      "metadata": {
        "id": "EQJmSufDX9OD",
        "colab_type": "code",
        "colab": {}
      },
      "source": [
        "correct_model = lr.fit(train_data)"
      ],
      "execution_count": 0,
      "outputs": []
    },
    {
      "cell_type": "code",
      "metadata": {
        "id": "IDhfmMd-YfkT",
        "colab_type": "code",
        "outputId": "280548f0-6177-42bb-aa65-54e745238ee3",
        "colab": {
          "base_uri": "https://localhost:8080/",
          "height": 35
        }
      },
      "source": [
        "test_results = correct_model.evaluate(test_data)\n",
        "test_results.rootMeanSquaredError"
      ],
      "execution_count": 24,
      "outputs": [
        {
          "output_type": "execute_result",
          "data": {
            "text/plain": [
              "11.145406219469672"
            ]
          },
          "metadata": {
            "tags": []
          },
          "execution_count": 24
        }
      ]
    },
    {
      "cell_type": "code",
      "metadata": {
        "id": "crgwrWDDYrbp",
        "colab_type": "code",
        "colab": {}
      },
      "source": [
        "unlabeled_data = test_data.select('features')"
      ],
      "execution_count": 0,
      "outputs": []
    },
    {
      "cell_type": "code",
      "metadata": {
        "id": "NYv_T2W4Y2Y4",
        "colab_type": "code",
        "outputId": "3563a8c0-766c-4877-ffc3-af2339eb663b",
        "colab": {
          "base_uri": "https://localhost:8080/",
          "height": 495
        }
      },
      "source": [
        "unlabeled_data.show()"
      ],
      "execution_count": 26,
      "outputs": [
        {
          "output_type": "stream",
          "text": [
            "+--------------------+\n",
            "|            features|\n",
            "+--------------------+\n",
            "|(10,[0,1,2,3,4,5,...|\n",
            "|(10,[0,1,2,3,4,5,...|\n",
            "|(10,[0,1,2,3,4,5,...|\n",
            "|(10,[0,1,2,3,4,5,...|\n",
            "|(10,[0,1,2,3,4,5,...|\n",
            "|(10,[0,1,2,3,4,5,...|\n",
            "|(10,[0,1,2,3,4,5,...|\n",
            "|(10,[0,1,2,3,4,5,...|\n",
            "|(10,[0,1,2,3,4,5,...|\n",
            "|(10,[0,1,2,3,4,5,...|\n",
            "|(10,[0,1,2,3,4,5,...|\n",
            "|(10,[0,1,2,3,4,5,...|\n",
            "|(10,[0,1,2,3,4,5,...|\n",
            "|(10,[0,1,2,3,4,5,...|\n",
            "|(10,[0,1,2,3,4,5,...|\n",
            "|(10,[0,1,2,3,4,5,...|\n",
            "|(10,[0,1,2,3,4,5,...|\n",
            "|(10,[0,1,2,3,4,5,...|\n",
            "|(10,[0,1,2,3,4,5,...|\n",
            "|(10,[0,1,2,3,4,5,...|\n",
            "+--------------------+\n",
            "only showing top 20 rows\n",
            "\n"
          ],
          "name": "stdout"
        }
      ]
    },
    {
      "cell_type": "code",
      "metadata": {
        "id": "eMuipL3-Y4mr",
        "colab_type": "code",
        "colab": {}
      },
      "source": [
        "predictions = correct_model.transform(unlabeled_data)"
      ],
      "execution_count": 0,
      "outputs": []
    },
    {
      "cell_type": "code",
      "metadata": {
        "id": "9lQs_wvSZAUE",
        "colab_type": "code",
        "outputId": "93982efb-bd56-45c2-b5ed-b8c8a891b7c3",
        "colab": {
          "base_uri": "https://localhost:8080/",
          "height": 495
        }
      },
      "source": [
        "predictions.show()"
      ],
      "execution_count": 28,
      "outputs": [
        {
          "output_type": "stream",
          "text": [
            "+--------------------+-------------------+\n",
            "|            features|         prediction|\n",
            "+--------------------+-------------------+\n",
            "|(10,[0,1,2,3,4,5,...|  -1.66328978711128|\n",
            "|(10,[0,1,2,3,4,5,...|-1.6929623045338034|\n",
            "|(10,[0,1,2,3,4,5,...| 3.2244960796231568|\n",
            "|(10,[0,1,2,3,4,5,...|-3.4768415107729376|\n",
            "|(10,[0,1,2,3,4,5,...|0.02096927088308978|\n",
            "|(10,[0,1,2,3,4,5,...| 3.6661535546144934|\n",
            "|(10,[0,1,2,3,4,5,...| 1.6403687217127092|\n",
            "|(10,[0,1,2,3,4,5,...| 0.9968612704911689|\n",
            "|(10,[0,1,2,3,4,5,...|-2.3512481041254727|\n",
            "|(10,[0,1,2,3,4,5,...| 0.6735193771737941|\n",
            "|(10,[0,1,2,3,4,5,...| 2.0111940680029208|\n",
            "|(10,[0,1,2,3,4,5,...|   5.64747591843449|\n",
            "|(10,[0,1,2,3,4,5,...| 3.3930867360314907|\n",
            "|(10,[0,1,2,3,4,5,...|0.14703616930644117|\n",
            "|(10,[0,1,2,3,4,5,...|-1.0570102020001673|\n",
            "|(10,[0,1,2,3,4,5,...| 0.3816772606758486|\n",
            "|(10,[0,1,2,3,4,5,...|-3.7098395687398855|\n",
            "|(10,[0,1,2,3,4,5,...| 2.4551445437943644|\n",
            "|(10,[0,1,2,3,4,5,...| 2.1517742565242437|\n",
            "|(10,[0,1,2,3,4,5,...| 1.9978111817778403|\n",
            "+--------------------+-------------------+\n",
            "only showing top 20 rows\n",
            "\n"
          ],
          "name": "stdout"
        }
      ]
    },
    {
      "cell_type": "markdown",
      "metadata": {
        "id": "lPwx9ZlteGCn",
        "colab_type": "text"
      },
      "source": [
        "### Working on our data"
      ]
    },
    {
      "cell_type": "code",
      "metadata": {
        "id": "EqeRKZaWeFTb",
        "colab_type": "code",
        "colab": {}
      },
      "source": [
        "spark = SparkSession.builder.appName('lr_example').getOrCreate()"
      ],
      "execution_count": 0,
      "outputs": []
    },
    {
      "cell_type": "code",
      "metadata": {
        "id": "T0GjtvIvZCJG",
        "colab_type": "code",
        "colab": {}
      },
      "source": [
        "data = spark.read.csv('Ecommerce-Customers.csv',inferSchema=True,\n",
        "                      header=True)"
      ],
      "execution_count": 0,
      "outputs": []
    },
    {
      "cell_type": "code",
      "metadata": {
        "id": "o4P7HmkGepHq",
        "colab_type": "code",
        "colab": {
          "base_uri": "https://localhost:8080/",
          "height": 515
        },
        "outputId": "1510200c-3460-4fba-a298-09aa48b66d13"
      },
      "source": [
        "data.show()"
      ],
      "execution_count": 32,
      "outputs": [
        {
          "output_type": "stream",
          "text": [
            "+--------------------+--------------------+----------------+------------------+------------------+------------------+--------------------+-------------------+\n",
            "|               Email|             Address|          Avatar|Avg Session Length|       Time on App|   Time on Website|Length of Membership|Yearly Amount Spent|\n",
            "+--------------------+--------------------+----------------+------------------+------------------+------------------+--------------------+-------------------+\n",
            "|mstephenson@ferna...|835 Frank TunnelW...|          Violet| 34.49726772511229| 12.65565114916675| 39.57766801952616|  4.0826206329529615|  587.9510539684005|\n",
            "|   hduke@hotmail.com|4547 Archer Commo...|       DarkGreen| 31.92627202636016|11.109460728682564|37.268958868297744|    2.66403418213262|  392.2049334443264|\n",
            "|    pallen@yahoo.com|24645 Valerie Uni...|          Bisque|33.000914755642675|11.330278057777512|37.110597442120856|   4.104543202376424| 487.54750486747207|\n",
            "|riverarebecca@gma...|1414 David Throug...|     SaddleBrown| 34.30555662975554|13.717513665142507| 36.72128267790313|   3.120178782748092|  581.8523440352177|\n",
            "|mstephens@davidso...|14023 Rodriguez P...|MediumAquaMarine| 33.33067252364639|12.795188551078114| 37.53665330059473|   4.446308318351434|  599.4060920457634|\n",
            "|alvareznancy@luca...|645 Martha Park A...|     FloralWhite|33.871037879341976|12.026925339755056| 34.47687762925054|   5.493507201364199|   637.102447915074|\n",
            "|katherine20@yahoo...|68388 Reyes Light...|   DarkSlateBlue| 32.02159550138701|11.366348309710526| 36.68377615286961|   4.685017246570912|  521.5721747578274|\n",
            "|  awatkins@yahoo.com|Unit 6538 Box 898...|            Aqua|32.739142938380326| 12.35195897300293| 37.37335885854755|  4.4342734348999375|  549.9041461052942|\n",
            "|vchurch@walter-ma...|860 Lee KeyWest D...|          Salmon| 33.98777289568564|13.386235275676436|37.534497341555735|  3.2734335777477144|  570.2004089636196|\n",
            "|    bonnie69@lin.biz|PSC 2734, Box 525...|           Brown|31.936548618448917|11.814128294972196| 37.14516822352819|   3.202806071553459|  427.1993848953282|\n",
            "|andrew06@peterson...|26104 Alexander G...|          Tomato|33.992572774953736|13.338975447662113| 37.22580613162114|   2.482607770510596|  492.6060127179966|\n",
            "|ryanwerner@freema...|Unit 2413 Box 034...|          Tomato| 33.87936082480498|11.584782999535266| 37.08792607098381|    3.71320920294043|  522.3374046069357|\n",
            "|   knelson@gmail.com|6705 Miller Orcha...|       RoyalBlue|29.532428967057943|10.961298400154098| 37.42021557502538|   4.046423164299585|  408.6403510726275|\n",
            "|wrightpeter@yahoo...|05302 Dunlap Ferr...|          Bisque| 33.19033404372265|12.959226091609382|36.144666700041924|   3.918541839158999|  573.4158673313865|\n",
            "|taylormason@gmail...|7773 Powell Sprin...|        DarkBlue|32.387975853153876|13.148725692056516| 36.61995708279922|   2.494543646659249|  470.4527333009554|\n",
            "| jstark@anderson.com|49558 Ramirez Roa...|            Peru|30.737720372628182|12.636606052000127|36.213763093698624|  3.3578468423262944|  461.7807421962299|\n",
            "| wjennings@gmail.com|6362 Wilson Mount...|      PowderBlue| 32.12538689728784|11.733861690857394|  34.8940927514398|  3.1361327164897803| 457.84769594494855|\n",
            "|rebecca45@hale-ba...|8982 Burton RowWi...|       OliveDrab|32.338899323067196|12.013194694014402| 38.38513659413844|   2.420806160901484| 407.70454754954415|\n",
            "|alejandro75@hotma...|64475 Andre Club ...|            Cyan|32.187812045932155|  14.7153875441565| 38.24411459434352|   1.516575580831944|  452.3156754800354|\n",
            "|samuel46@love-wes...|544 Alexander Hei...|   LightSeaGreen| 32.61785606282345|13.989592555825254|37.190503800397956|   4.064548550437977|   605.061038804892|\n",
            "+--------------------+--------------------+----------------+------------------+------------------+------------------+--------------------+-------------------+\n",
            "only showing top 20 rows\n",
            "\n"
          ],
          "name": "stdout"
        }
      ]
    },
    {
      "cell_type": "code",
      "metadata": {
        "id": "e-a5zkZYevcH",
        "colab_type": "code",
        "colab": {
          "base_uri": "https://localhost:8080/",
          "height": 201
        },
        "outputId": "56bdc4dc-99a2-4c01-d96a-99104d7538c7"
      },
      "source": [
        "data.printSchema()"
      ],
      "execution_count": 33,
      "outputs": [
        {
          "output_type": "stream",
          "text": [
            "root\n",
            " |-- Email: string (nullable = true)\n",
            " |-- Address: string (nullable = true)\n",
            " |-- Avatar: string (nullable = true)\n",
            " |-- Avg Session Length: double (nullable = true)\n",
            " |-- Time on App: double (nullable = true)\n",
            " |-- Time on Website: double (nullable = true)\n",
            " |-- Length of Membership: double (nullable = true)\n",
            " |-- Yearly Amount Spent: double (nullable = true)\n",
            "\n"
          ],
          "name": "stdout"
        }
      ]
    },
    {
      "cell_type": "markdown",
      "metadata": {
        "id": "di1oqdWsfWcI",
        "colab_type": "text"
      },
      "source": [
        "### Setup df for ML"
      ]
    },
    {
      "cell_type": "code",
      "metadata": {
        "id": "aeNBquhwfA23",
        "colab_type": "code",
        "colab": {}
      },
      "source": [
        "from pyspark.ml.linalg import Vectors\n",
        "from pyspark.ml.feature import VectorAssembler"
      ],
      "execution_count": 0,
      "outputs": []
    },
    {
      "cell_type": "code",
      "metadata": {
        "id": "7iDDqTq7fi0x",
        "colab_type": "code",
        "colab": {
          "base_uri": "https://localhost:8080/",
          "height": 164
        },
        "outputId": "0eb7f059-df52-4403-93aa-6eab760ae4f0"
      },
      "source": [
        "data.columns"
      ],
      "execution_count": 35,
      "outputs": [
        {
          "output_type": "execute_result",
          "data": {
            "text/plain": [
              "['Email',\n",
              " 'Address',\n",
              " 'Avatar',\n",
              " 'Avg Session Length',\n",
              " 'Time on App',\n",
              " 'Time on Website',\n",
              " 'Length of Membership',\n",
              " 'Yearly Amount Spent']"
            ]
          },
          "metadata": {
            "tags": []
          },
          "execution_count": 35
        }
      ]
    },
    {
      "cell_type": "code",
      "metadata": {
        "id": "rRO6foGRfoh3",
        "colab_type": "code",
        "colab": {}
      },
      "source": [
        "assembler = VectorAssembler(inputCols=['Avg Session Length',\n",
        "                                       'Time on App',\n",
        "                                       'Time on Website',\n",
        "                                       'Length of Membership'],\n",
        "                            outputCol='features')"
      ],
      "execution_count": 0,
      "outputs": []
    },
    {
      "cell_type": "code",
      "metadata": {
        "id": "coGcQu1nf_hW",
        "colab_type": "code",
        "colab": {}
      },
      "source": [
        "output = assembler.transform(data)"
      ],
      "execution_count": 0,
      "outputs": []
    },
    {
      "cell_type": "code",
      "metadata": {
        "id": "IQ3xM6uFgEQC",
        "colab_type": "code",
        "colab": {
          "base_uri": "https://localhost:8080/",
          "height": 219
        },
        "outputId": "5e3cd081-b71a-4309-bbcd-a0d9db74acaa"
      },
      "source": [
        "output.printSchema()"
      ],
      "execution_count": 38,
      "outputs": [
        {
          "output_type": "stream",
          "text": [
            "root\n",
            " |-- Email: string (nullable = true)\n",
            " |-- Address: string (nullable = true)\n",
            " |-- Avatar: string (nullable = true)\n",
            " |-- Avg Session Length: double (nullable = true)\n",
            " |-- Time on App: double (nullable = true)\n",
            " |-- Time on Website: double (nullable = true)\n",
            " |-- Length of Membership: double (nullable = true)\n",
            " |-- Yearly Amount Spent: double (nullable = true)\n",
            " |-- features: vector (nullable = true)\n",
            "\n"
          ],
          "name": "stdout"
        }
      ]
    },
    {
      "cell_type": "code",
      "metadata": {
        "id": "MY8Xwp_1gNdL",
        "colab_type": "code",
        "colab": {}
      },
      "source": [
        "final_data = output.select('features','Yearly Amount Spent')"
      ],
      "execution_count": 0,
      "outputs": []
    },
    {
      "cell_type": "code",
      "metadata": {
        "id": "KNAisP36gWKX",
        "colab_type": "code",
        "colab": {
          "base_uri": "https://localhost:8080/",
          "height": 495
        },
        "outputId": "d7fbc7de-2432-4c9c-99d0-0a55055b48f7"
      },
      "source": [
        "final_data.show()"
      ],
      "execution_count": 41,
      "outputs": [
        {
          "output_type": "stream",
          "text": [
            "+--------------------+-------------------+\n",
            "|            features|Yearly Amount Spent|\n",
            "+--------------------+-------------------+\n",
            "|[34.4972677251122...|  587.9510539684005|\n",
            "|[31.9262720263601...|  392.2049334443264|\n",
            "|[33.0009147556426...| 487.54750486747207|\n",
            "|[34.3055566297555...|  581.8523440352177|\n",
            "|[33.3306725236463...|  599.4060920457634|\n",
            "|[33.8710378793419...|   637.102447915074|\n",
            "|[32.0215955013870...|  521.5721747578274|\n",
            "|[32.7391429383803...|  549.9041461052942|\n",
            "|[33.9877728956856...|  570.2004089636196|\n",
            "|[31.9365486184489...|  427.1993848953282|\n",
            "|[33.9925727749537...|  492.6060127179966|\n",
            "|[33.8793608248049...|  522.3374046069357|\n",
            "|[29.5324289670579...|  408.6403510726275|\n",
            "|[33.1903340437226...|  573.4158673313865|\n",
            "|[32.3879758531538...|  470.4527333009554|\n",
            "|[30.7377203726281...|  461.7807421962299|\n",
            "|[32.1253868972878...| 457.84769594494855|\n",
            "|[32.3388993230671...| 407.70454754954415|\n",
            "|[32.1878120459321...|  452.3156754800354|\n",
            "|[32.6178560628234...|   605.061038804892|\n",
            "+--------------------+-------------------+\n",
            "only showing top 20 rows\n",
            "\n"
          ],
          "name": "stdout"
        }
      ]
    },
    {
      "cell_type": "code",
      "metadata": {
        "id": "DlTW8W2NgYcS",
        "colab_type": "code",
        "colab": {}
      },
      "source": [
        "train_data,test_data = final_data.randomSplit([0.7,0.3])"
      ],
      "execution_count": 0,
      "outputs": []
    },
    {
      "cell_type": "code",
      "metadata": {
        "id": "4GF0MDFRgfbo",
        "colab_type": "code",
        "colab": {
          "base_uri": "https://localhost:8080/",
          "height": 201
        },
        "outputId": "2f80a95e-1272-4bca-b257-b68b2e5f893a"
      },
      "source": [
        "train_data.describe().show()"
      ],
      "execution_count": 43,
      "outputs": [
        {
          "output_type": "stream",
          "text": [
            "+-------+-------------------+\n",
            "|summary|Yearly Amount Spent|\n",
            "+-------+-------------------+\n",
            "|  count|                348|\n",
            "|   mean| 498.06487144600027|\n",
            "| stddev|  75.86218195738833|\n",
            "|    min| 256.67058229005585|\n",
            "|    max|  725.5848140556806|\n",
            "+-------+-------------------+\n",
            "\n"
          ],
          "name": "stdout"
        }
      ]
    },
    {
      "cell_type": "code",
      "metadata": {
        "id": "vkxtlgD-gjwB",
        "colab_type": "code",
        "colab": {
          "base_uri": "https://localhost:8080/",
          "height": 201
        },
        "outputId": "49f121a5-6109-4d96-8300-5eed58c95bdc"
      },
      "source": [
        "test_data.describe().show()"
      ],
      "execution_count": 44,
      "outputs": [
        {
          "output_type": "stream",
          "text": [
            "+-------+-------------------+\n",
            "|summary|Yearly Amount Spent|\n",
            "+-------+-------------------+\n",
            "|  count|                152|\n",
            "|   mean|  502.1739728032058|\n",
            "| stddev|  86.90143110312151|\n",
            "|    min|  282.4712457199145|\n",
            "|    max|  765.5184619388373|\n",
            "+-------+-------------------+\n",
            "\n"
          ],
          "name": "stdout"
        }
      ]
    },
    {
      "cell_type": "code",
      "metadata": {
        "id": "gPV-TM1Vgmlv",
        "colab_type": "code",
        "colab": {}
      },
      "source": [
        "lr = LinearRegression(labelCol = 'Yearly Amount Spent')\n",
        "lr_model = lr.fit(train_data)"
      ],
      "execution_count": 0,
      "outputs": []
    },
    {
      "cell_type": "code",
      "metadata": {
        "id": "xq84WIuIgze7",
        "colab_type": "code",
        "colab": {}
      },
      "source": [
        "test_results = lr_model.evaluate(test_data)"
      ],
      "execution_count": 0,
      "outputs": []
    },
    {
      "cell_type": "code",
      "metadata": {
        "id": "I-ss64uhg6GP",
        "colab_type": "code",
        "colab": {
          "base_uri": "https://localhost:8080/",
          "height": 495
        },
        "outputId": "7ec83cee-f6b1-40a3-9845-20cffee97c17"
      },
      "source": [
        "test_results.residuals.show()"
      ],
      "execution_count": 48,
      "outputs": [
        {
          "output_type": "stream",
          "text": [
            "+-------------------+\n",
            "|          residuals|\n",
            "+-------------------+\n",
            "| -5.127369403090654|\n",
            "|-12.486942216466048|\n",
            "| -7.514091817437475|\n",
            "| -1.628623774188668|\n",
            "| -4.162466113710025|\n",
            "| 22.061175897732028|\n",
            "| 2.9416756025092354|\n",
            "|-6.0779353669287275|\n",
            "| -14.55938706073016|\n",
            "| -1.932216465330498|\n",
            "|-5.6400462960157824|\n",
            "|  6.178282929289878|\n",
            "| 3.1953986836832087|\n",
            "|  -3.44542599792112|\n",
            "| -17.27187610085008|\n",
            "| -13.76270374577848|\n",
            "|  8.880961472014064|\n",
            "| -18.09827782344223|\n",
            "| -3.656094504574071|\n",
            "| 0.5746379783337829|\n",
            "+-------------------+\n",
            "only showing top 20 rows\n",
            "\n"
          ],
          "name": "stdout"
        }
      ]
    },
    {
      "cell_type": "code",
      "metadata": {
        "id": "UOFFOv14g-5x",
        "colab_type": "code",
        "colab": {
          "base_uri": "https://localhost:8080/",
          "height": 35
        },
        "outputId": "2ba0f3bb-7ad1-4b93-82e6-990b40a75aec"
      },
      "source": [
        "test_results.rootMeanSquaredError"
      ],
      "execution_count": 49,
      "outputs": [
        {
          "output_type": "execute_result",
          "data": {
            "text/plain": [
              "10.23553836737399"
            ]
          },
          "metadata": {
            "tags": []
          },
          "execution_count": 49
        }
      ]
    },
    {
      "cell_type": "code",
      "metadata": {
        "id": "bjF3Kn7_hJgE",
        "colab_type": "code",
        "colab": {
          "base_uri": "https://localhost:8080/",
          "height": 35
        },
        "outputId": "eb89a7eb-23e2-4dcf-de69-8bd6cf4803cc"
      },
      "source": [
        "test_results.r2"
      ],
      "execution_count": 50,
      "outputs": [
        {
          "output_type": "execute_result",
          "data": {
            "text/plain": [
              "0.9860352178625025"
            ]
          },
          "metadata": {
            "tags": []
          },
          "execution_count": 50
        }
      ]
    },
    {
      "cell_type": "code",
      "metadata": {
        "id": "4KCzn4HlhLeA",
        "colab_type": "code",
        "colab": {
          "base_uri": "https://localhost:8080/",
          "height": 201
        },
        "outputId": "35276570-a803-482e-ce6e-6776882a259a"
      },
      "source": [
        " final_data.describe().show()"
      ],
      "execution_count": 51,
      "outputs": [
        {
          "output_type": "stream",
          "text": [
            "+-------+-------------------+\n",
            "|summary|Yearly Amount Spent|\n",
            "+-------+-------------------+\n",
            "|  count|                500|\n",
            "|   mean|  499.3140382585909|\n",
            "| stddev|   79.3147815497068|\n",
            "|    min| 256.67058229005585|\n",
            "|    max|  765.5184619388373|\n",
            "+-------+-------------------+\n",
            "\n"
          ],
          "name": "stdout"
        }
      ]
    },
    {
      "cell_type": "code",
      "metadata": {
        "id": "83LNt702iMOo",
        "colab_type": "code",
        "colab": {}
      },
      "source": [
        "unlabeled_data = test_data.select('features')"
      ],
      "execution_count": 0,
      "outputs": []
    },
    {
      "cell_type": "code",
      "metadata": {
        "id": "5jzQEOKHibxf",
        "colab_type": "code",
        "colab": {
          "base_uri": "https://localhost:8080/",
          "height": 495
        },
        "outputId": "79b03f11-6ee6-419e-c233-99a7300861c2"
      },
      "source": [
        "unlabeled_data.show()"
      ],
      "execution_count": 53,
      "outputs": [
        {
          "output_type": "stream",
          "text": [
            "+--------------------+\n",
            "|            features|\n",
            "+--------------------+\n",
            "|[30.4925366965402...|\n",
            "|[31.0662181616375...|\n",
            "|[31.1280900496166...|\n",
            "|[31.2606468698795...|\n",
            "|[31.2681042107507...|\n",
            "|[31.2834474760581...|\n",
            "|[31.3091926408918...|\n",
            "|[31.4474464941278...|\n",
            "|[31.5741380228732...|\n",
            "|[31.5761319713222...|\n",
            "|[31.6253601348306...|\n",
            "|[31.6548096756927...|\n",
            "|[31.7366356860502...|\n",
            "|[31.8124825597242...|\n",
            "|[31.9048571310136...|\n",
            "|[31.9365486184489...|\n",
            "|[31.9549038566348...|\n",
            "|[31.9563005605233...|\n",
            "|[31.9673209478824...|\n",
            "|[32.0047530203648...|\n",
            "+--------------------+\n",
            "only showing top 20 rows\n",
            "\n"
          ],
          "name": "stdout"
        }
      ]
    },
    {
      "cell_type": "code",
      "metadata": {
        "id": "G3kcpvsiieus",
        "colab_type": "code",
        "colab": {}
      },
      "source": [
        "predictions = lr_model.transform(unlabeled_data)"
      ],
      "execution_count": 0,
      "outputs": []
    },
    {
      "cell_type": "code",
      "metadata": {
        "id": "lMNCOoO8ij7Z",
        "colab_type": "code",
        "colab": {
          "base_uri": "https://localhost:8080/",
          "height": 495
        },
        "outputId": "fb3b2a20-0bf2-45c8-d5e4-b72f643ee7ce"
      },
      "source": [
        "predictions.show()"
      ],
      "execution_count": 55,
      "outputs": [
        {
          "output_type": "stream",
          "text": [
            "+--------------------+------------------+\n",
            "|            features|        prediction|\n",
            "+--------------------+------------------+\n",
            "|[30.4925366965402...| 287.5986151230052|\n",
            "|[31.0662181616375...| 461.4202354241404|\n",
            "|[31.1280900496166...| 564.7667785644921|\n",
            "|[31.2606468698795...|422.95525503114004|\n",
            "|[31.2681042107507...|427.63299928753395|\n",
            "|[31.2834474760581...| 569.7199135279354|\n",
            "|[31.3091926408918...| 429.7790422374244|\n",
            "|[31.4474464941278...|424.68067746215274|\n",
            "|[31.5741380228732...|  558.968659221317|\n",
            "|[31.5761319713222...| 543.1588004546588|\n",
            "|[31.6253601348306...|   381.97694705294|\n",
            "|[31.6548096756927...|469.08514079825864|\n",
            "|[31.7366356860502...| 493.7380475718487|\n",
            "|[31.8124825597242...|396.25577098171834|\n",
            "|[31.9048571310136...| 491.2217335236662|\n",
            "|[31.9365486184489...| 440.9620886411067|\n",
            "|[31.9549038566348...| 431.1169184679129|\n",
            "|[31.9563005605233...|  565.224209570641|\n",
            "|[31.9673209478824...| 449.4059357442263|\n",
            "|[32.0047530203648...|463.17134314229565|\n",
            "+--------------------+------------------+\n",
            "only showing top 20 rows\n",
            "\n"
          ],
          "name": "stdout"
        }
      ]
    },
    {
      "cell_type": "code",
      "metadata": {
        "id": "9mm7IFv0imEB",
        "colab_type": "code",
        "colab": {}
      },
      "source": [
        ""
      ],
      "execution_count": 0,
      "outputs": []
    }
  ]
}