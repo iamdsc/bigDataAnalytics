{
  "nbformat": 4,
  "nbformat_minor": 0,
  "metadata": {
    "colab": {
      "name": "04_sparkLogisticRegression.ipynb",
      "version": "0.3.2",
      "provenance": []
    },
    "kernelspec": {
      "name": "python3",
      "display_name": "Python 3"
    },
    "accelerator": "GPU"
  },
  "cells": [
    {
      "cell_type": "code",
      "metadata": {
        "id": "ouFgfa92ETi5",
        "colab_type": "code",
        "colab": {}
      },
      "source": [
        "!apt-get install openjdk-8-jdk-headless -qq > /dev/null\n",
        "!wget -q http://www-eu.apache.org/dist/spark/spark-2.3.3/spark-2.3.3-bin-hadoop2.7.tgz\n",
        "!tar xf spark-2.3.3-bin-hadoop2.7.tgz\n",
        "!pip install -q findspark"
      ],
      "execution_count": 0,
      "outputs": []
    },
    {
      "cell_type": "code",
      "metadata": {
        "id": "KFSjufNgEfUk",
        "colab_type": "code",
        "colab": {}
      },
      "source": [
        "import os\n",
        "os.environ[\"JAVA_HOME\"] = \"/usr/lib/jvm/java-8-openjdk-amd64\"\n",
        "os.environ[\"SPARK_HOME\"] = \"/content/spark-2.3.3-bin-hadoop2.7\""
      ],
      "execution_count": 0,
      "outputs": []
    },
    {
      "cell_type": "code",
      "metadata": {
        "id": "gglG2dRJEx81",
        "colab_type": "code",
        "colab": {}
      },
      "source": [
        "import findspark\n",
        "findspark.init()\n",
        "from pyspark.sql import SparkSession"
      ],
      "execution_count": 0,
      "outputs": []
    },
    {
      "cell_type": "code",
      "metadata": {
        "id": "FbdWIo3pE0Lc",
        "colab_type": "code",
        "colab": {}
      },
      "source": [
        "spark = SparkSession.builder.appName('mylogreg').getOrCreate()"
      ],
      "execution_count": 0,
      "outputs": []
    },
    {
      "cell_type": "code",
      "metadata": {
        "id": "HdEcJsxSFLqY",
        "colab_type": "code",
        "colab": {}
      },
      "source": [
        "from pyspark.ml.classification import LogisticRegression"
      ],
      "execution_count": 0,
      "outputs": []
    },
    {
      "cell_type": "code",
      "metadata": {
        "id": "eA7x3eQnFUPT",
        "colab_type": "code",
        "colab": {}
      },
      "source": [
        "my_data = spark.read.format('libsvm').load('sample_libsvm_data.txt')"
      ],
      "execution_count": 0,
      "outputs": []
    },
    {
      "cell_type": "code",
      "metadata": {
        "id": "uZrntLYiFfkt",
        "colab_type": "code",
        "colab": {
          "base_uri": "https://localhost:8080/",
          "height": 498
        },
        "outputId": "90e3bd5c-64f5-4dd3-8237-440b6ac6798b"
      },
      "source": [
        "my_data.show()"
      ],
      "execution_count": 7,
      "outputs": [
        {
          "output_type": "stream",
          "text": [
            "+-----+--------------------+\n",
            "|label|            features|\n",
            "+-----+--------------------+\n",
            "|  0.0|(692,[127,128,129...|\n",
            "|  1.0|(692,[158,159,160...|\n",
            "|  1.0|(692,[124,125,126...|\n",
            "|  1.0|(692,[152,153,154...|\n",
            "|  1.0|(692,[151,152,153...|\n",
            "|  0.0|(692,[129,130,131...|\n",
            "|  1.0|(692,[158,159,160...|\n",
            "|  1.0|(692,[99,100,101,...|\n",
            "|  0.0|(692,[154,155,156...|\n",
            "|  0.0|(692,[127,128,129...|\n",
            "|  1.0|(692,[154,155,156...|\n",
            "|  0.0|(692,[153,154,155...|\n",
            "|  0.0|(692,[151,152,153...|\n",
            "|  1.0|(692,[129,130,131...|\n",
            "|  0.0|(692,[154,155,156...|\n",
            "|  1.0|(692,[150,151,152...|\n",
            "|  0.0|(692,[124,125,126...|\n",
            "|  0.0|(692,[152,153,154...|\n",
            "|  1.0|(692,[97,98,99,12...|\n",
            "|  1.0|(692,[124,125,126...|\n",
            "+-----+--------------------+\n",
            "only showing top 20 rows\n",
            "\n"
          ],
          "name": "stdout"
        }
      ]
    },
    {
      "cell_type": "code",
      "metadata": {
        "id": "fi_4oza7FkKP",
        "colab_type": "code",
        "colab": {}
      },
      "source": [
        "my_log_reg_model = LogisticRegression()"
      ],
      "execution_count": 0,
      "outputs": []
    },
    {
      "cell_type": "code",
      "metadata": {
        "id": "yIGTWtA0F0bH",
        "colab_type": "code",
        "colab": {}
      },
      "source": [
        "fitted_logreg = my_log_reg_model.fit(my_data)"
      ],
      "execution_count": 0,
      "outputs": []
    },
    {
      "cell_type": "code",
      "metadata": {
        "id": "1uoybAyaF87T",
        "colab_type": "code",
        "colab": {}
      },
      "source": [
        "log_summary = fitted_logreg.summary"
      ],
      "execution_count": 0,
      "outputs": []
    },
    {
      "cell_type": "code",
      "metadata": {
        "id": "yLk_kNMKGEx3",
        "colab_type": "code",
        "colab": {
          "base_uri": "https://localhost:8080/",
          "height": 498
        },
        "outputId": "4c8be3b1-35a6-4eb0-953b-9e4e7975ff93"
      },
      "source": [
        "log_summary.predictions.show()"
      ],
      "execution_count": 12,
      "outputs": [
        {
          "output_type": "stream",
          "text": [
            "+-----+--------------------+--------------------+--------------------+----------+\n",
            "|label|            features|       rawPrediction|         probability|prediction|\n",
            "+-----+--------------------+--------------------+--------------------+----------+\n",
            "|  0.0|(692,[127,128,129...|[19.8534775947478...|[0.99999999761359...|       0.0|\n",
            "|  1.0|(692,[158,159,160...|[-20.377398194908...|[1.41321555111056...|       1.0|\n",
            "|  1.0|(692,[124,125,126...|[-27.401459284891...|[1.25804865126979...|       1.0|\n",
            "|  1.0|(692,[152,153,154...|[-18.862741612668...|[6.42710509170303...|       1.0|\n",
            "|  1.0|(692,[151,152,153...|[-20.483011833009...|[1.27157209200604...|       1.0|\n",
            "|  0.0|(692,[129,130,131...|[19.8506078990277...|[0.99999999760673...|       0.0|\n",
            "|  1.0|(692,[158,159,160...|[-20.337256674833...|[1.47109814695581...|       1.0|\n",
            "|  1.0|(692,[99,100,101,...|[-19.595579753418...|[3.08850168102631...|       1.0|\n",
            "|  0.0|(692,[154,155,156...|[19.2708803215613...|[0.99999999572670...|       0.0|\n",
            "|  0.0|(692,[127,128,129...|[23.6202328360422...|[0.99999999994480...|       0.0|\n",
            "|  1.0|(692,[154,155,156...|[-24.385235147661...|[2.56818872776510...|       1.0|\n",
            "|  0.0|(692,[153,154,155...|[26.3082522490179...|[0.99999999999624...|       0.0|\n",
            "|  0.0|(692,[151,152,153...|[25.8329060318703...|[0.99999999999396...|       0.0|\n",
            "|  1.0|(692,[129,130,131...|[-19.794609139086...|[2.53110684529575...|       1.0|\n",
            "|  0.0|(692,[154,155,156...|[21.0260440948067...|[0.99999999926123...|       0.0|\n",
            "|  1.0|(692,[150,151,152...|[-22.764979942873...|[1.29806018790941...|       1.0|\n",
            "|  0.0|(692,[124,125,126...|[21.5049307193954...|[0.99999999954235...|       0.0|\n",
            "|  0.0|(692,[152,153,154...|[31.9927184226421...|[0.99999999999998...|       0.0|\n",
            "|  1.0|(692,[97,98,99,12...|[-20.521067180414...|[1.22409115616505...|       1.0|\n",
            "|  1.0|(692,[124,125,126...|[-22.245377742755...|[2.18250475400332...|       1.0|\n",
            "+-----+--------------------+--------------------+--------------------+----------+\n",
            "only showing top 20 rows\n",
            "\n"
          ],
          "name": "stdout"
        }
      ]
    },
    {
      "cell_type": "code",
      "metadata": {
        "id": "5vu9tqpeGKHm",
        "colab_type": "code",
        "colab": {}
      },
      "source": [
        "lr_train,lr_test = my_data.randomSplit([0.7,0.3])"
      ],
      "execution_count": 0,
      "outputs": []
    },
    {
      "cell_type": "code",
      "metadata": {
        "id": "7CUKVKcAGqIi",
        "colab_type": "code",
        "colab": {}
      },
      "source": [
        "final_model = LogisticRegression()"
      ],
      "execution_count": 0,
      "outputs": []
    },
    {
      "cell_type": "code",
      "metadata": {
        "id": "w-qddUrCGs-w",
        "colab_type": "code",
        "colab": {}
      },
      "source": [
        "fit_final = final_model.fit(lr_train)"
      ],
      "execution_count": 0,
      "outputs": []
    },
    {
      "cell_type": "code",
      "metadata": {
        "id": "GhNLO74SGwml",
        "colab_type": "code",
        "colab": {}
      },
      "source": [
        "prediction_and_labels = fit_final.evaluate(lr_test)"
      ],
      "execution_count": 0,
      "outputs": []
    },
    {
      "cell_type": "code",
      "metadata": {
        "id": "6Ejqk2k1G2Y5",
        "colab_type": "code",
        "colab": {
          "base_uri": "https://localhost:8080/",
          "height": 498
        },
        "outputId": "52743b70-9115-4390-e282-89704419dd46"
      },
      "source": [
        "prediction_and_labels.predictions.show()"
      ],
      "execution_count": 18,
      "outputs": [
        {
          "output_type": "stream",
          "text": [
            "+-----+--------------------+--------------------+--------------------+----------+\n",
            "|label|            features|       rawPrediction|         probability|prediction|\n",
            "+-----+--------------------+--------------------+--------------------+----------+\n",
            "|  0.0|(692,[95,96,97,12...|[23.4706906845332...|[0.99999999993590...|       0.0|\n",
            "|  0.0|(692,[100,101,102...|[10.7816138335672...|[0.99997922239037...|       0.0|\n",
            "|  0.0|(692,[122,123,124...|[20.3754981196014...|[0.99999999858409...|       0.0|\n",
            "|  0.0|(692,[124,125,126...|[38.1505699977623...|[1.0,2.7003370083...|       0.0|\n",
            "|  0.0|(692,[124,125,126...|[32.7128113696880...|[0.99999999999999...|       0.0|\n",
            "|  0.0|(692,[124,125,126...|[22.4460510537293...|[0.99999999982143...|       0.0|\n",
            "|  0.0|(692,[124,125,126...|[24.1401724547417...|[0.99999999996718...|       0.0|\n",
            "|  0.0|(692,[126,127,128...|[19.0325586282103...|[0.99999999457668...|       0.0|\n",
            "|  0.0|(692,[126,127,128...|[34.2432786950352...|[0.99999999999999...|       0.0|\n",
            "|  0.0|(692,[126,127,128...|[25.8683211133060...|[0.99999999999417...|       0.0|\n",
            "|  0.0|(692,[126,127,128...|[30.6193434982839...|[0.99999999999994...|       0.0|\n",
            "|  0.0|(692,[127,128,129...|[24.0140165750038...|[0.99999999996277...|       0.0|\n",
            "|  0.0|(692,[127,128,129...|[22.5646351960573...|[0.9999999998414,...|       0.0|\n",
            "|  0.0|(692,[129,130,131...|[16.9683839102978...|[0.99999995727082...|       0.0|\n",
            "|  0.0|(692,[150,151,152...|[26.2441941853302...|[0.99999999999599...|       0.0|\n",
            "|  0.0|(692,[151,152,153...|[31.6936855350000...|[0.99999999999998...|       0.0|\n",
            "|  0.0|(692,[152,153,154...|[32.3691106478099...|[0.99999999999999...|       0.0|\n",
            "|  0.0|(692,[153,154,155...|[29.8514370484579...|[0.99999999999989...|       0.0|\n",
            "|  1.0|(692,[99,100,101,...|[-11.456002673534...|[1.05856287058318...|       1.0|\n",
            "|  1.0|(692,[123,124,125...|[-25.294510498936...|[1.03450755786120...|       1.0|\n",
            "+-----+--------------------+--------------------+--------------------+----------+\n",
            "only showing top 20 rows\n",
            "\n"
          ],
          "name": "stdout"
        }
      ]
    },
    {
      "cell_type": "markdown",
      "metadata": {
        "id": "xuJNUK5CHPxG",
        "colab_type": "text"
      },
      "source": [
        "### Using Evaluator object"
      ]
    },
    {
      "cell_type": "code",
      "metadata": {
        "id": "BsId_ZXnG-QW",
        "colab_type": "code",
        "colab": {}
      },
      "source": [
        "from pyspark.ml.evaluation import (BinaryClassificationEvaluator,\n",
        "                                  MulticlassClassificationEvaluator)"
      ],
      "execution_count": 0,
      "outputs": []
    },
    {
      "cell_type": "code",
      "metadata": {
        "id": "gYfSNVzwHgip",
        "colab_type": "code",
        "colab": {}
      },
      "source": [
        "my_eval = BinaryClassificationEvaluator()"
      ],
      "execution_count": 0,
      "outputs": []
    },
    {
      "cell_type": "code",
      "metadata": {
        "id": "Tjvk0Nc0IoSP",
        "colab_type": "code",
        "colab": {}
      },
      "source": [
        "my_final_roc = my_eval.evaluate(prediction_and_labels.predictions)"
      ],
      "execution_count": 0,
      "outputs": []
    },
    {
      "cell_type": "code",
      "metadata": {
        "id": "6rM7QRBkIyu7",
        "colab_type": "code",
        "colab": {
          "base_uri": "https://localhost:8080/",
          "height": 35
        },
        "outputId": "dbb19f11-0a29-4be5-c7bd-e8b1db3e9e9c"
      },
      "source": [
        "my_final_roc"
      ],
      "execution_count": 22,
      "outputs": [
        {
          "output_type": "execute_result",
          "data": {
            "text/plain": [
              "1.0"
            ]
          },
          "metadata": {
            "tags": []
          },
          "execution_count": 22
        }
      ]
    },
    {
      "cell_type": "markdown",
      "metadata": {
        "id": "WDza7xcAOiny",
        "colab_type": "text"
      },
      "source": [
        "### Consulting Project"
      ]
    },
    {
      "cell_type": "code",
      "metadata": {
        "id": "7eW5HJPPI0Pp",
        "colab_type": "code",
        "colab": {}
      },
      "source": [
        "spark = SparkSession.builder.appName('logregconsult').getOrCreate()"
      ],
      "execution_count": 0,
      "outputs": []
    },
    {
      "cell_type": "code",
      "metadata": {
        "id": "rxlN5SLAQber",
        "colab_type": "code",
        "colab": {}
      },
      "source": [
        "data = spark.read.csv('customer_churn.csv',inferSchema=True,header=True)"
      ],
      "execution_count": 0,
      "outputs": []
    },
    {
      "cell_type": "code",
      "metadata": {
        "id": "fQcGbu7pQnR0",
        "colab_type": "code",
        "colab": {
          "base_uri": "https://localhost:8080/",
          "height": 239
        },
        "outputId": "12078dd4-6d89-4bfb-eba9-8585c957f73b"
      },
      "source": [
        "data.printSchema()"
      ],
      "execution_count": 25,
      "outputs": [
        {
          "output_type": "stream",
          "text": [
            "root\n",
            " |-- Names: string (nullable = true)\n",
            " |-- Age: double (nullable = true)\n",
            " |-- Total_Purchase: double (nullable = true)\n",
            " |-- Account_Manager: integer (nullable = true)\n",
            " |-- Years: double (nullable = true)\n",
            " |-- Num_Sites: double (nullable = true)\n",
            " |-- Onboard_date: timestamp (nullable = true)\n",
            " |-- Location: string (nullable = true)\n",
            " |-- Company: string (nullable = true)\n",
            " |-- Churn: integer (nullable = true)\n",
            "\n"
          ],
          "name": "stdout"
        }
      ]
    },
    {
      "cell_type": "code",
      "metadata": {
        "id": "_ckFrn5TQv2q",
        "colab_type": "code",
        "colab": {
          "base_uri": "https://localhost:8080/",
          "height": 222
        },
        "outputId": "65f21b02-f88b-4390-b01a-9340340757c0"
      },
      "source": [
        "data.describe().show()"
      ],
      "execution_count": 26,
      "outputs": [
        {
          "output_type": "stream",
          "text": [
            "+-------+-------------+-----------------+-----------------+------------------+-----------------+------------------+--------------------+--------------------+-------------------+\n",
            "|summary|        Names|              Age|   Total_Purchase|   Account_Manager|            Years|         Num_Sites|            Location|             Company|              Churn|\n",
            "+-------+-------------+-----------------+-----------------+------------------+-----------------+------------------+--------------------+--------------------+-------------------+\n",
            "|  count|          900|              900|              900|               900|              900|               900|                 900|                 900|                900|\n",
            "|   mean|         null|41.81666666666667|10062.82403333334|0.4811111111111111| 5.27315555555555| 8.587777777777777|                null|                null|0.16666666666666666|\n",
            "| stddev|         null|6.127560416916251|2408.644531858096|0.4999208935073339|1.274449013194616|1.7648355920350969|                null|                null| 0.3728852122772358|\n",
            "|    min|   Aaron King|             22.0|            100.0|                 0|              1.0|               3.0|00103 Jeffrey Cre...|     Abbott-Thompson|                  0|\n",
            "|    max|Zachary Walsh|             65.0|         18026.01|                 1|             9.15|              14.0|Unit 9800 Box 287...|Zuniga, Clark and...|                  1|\n",
            "+-------+-------------+-----------------+-----------------+------------------+-----------------+------------------+--------------------+--------------------+-------------------+\n",
            "\n"
          ],
          "name": "stdout"
        }
      ]
    },
    {
      "cell_type": "code",
      "metadata": {
        "id": "SuWL3ThSQ33t",
        "colab_type": "code",
        "colab": {
          "base_uri": "https://localhost:8080/",
          "height": 202
        },
        "outputId": "fabc8eee-5f72-45af-ccdf-e6a4a6b7fe6b"
      },
      "source": [
        "data.columns"
      ],
      "execution_count": 27,
      "outputs": [
        {
          "output_type": "execute_result",
          "data": {
            "text/plain": [
              "['Names',\n",
              " 'Age',\n",
              " 'Total_Purchase',\n",
              " 'Account_Manager',\n",
              " 'Years',\n",
              " 'Num_Sites',\n",
              " 'Onboard_date',\n",
              " 'Location',\n",
              " 'Company',\n",
              " 'Churn']"
            ]
          },
          "metadata": {
            "tags": []
          },
          "execution_count": 27
        }
      ]
    },
    {
      "cell_type": "code",
      "metadata": {
        "id": "GC3a9KVZQ-iR",
        "colab_type": "code",
        "colab": {}
      },
      "source": [
        "from pyspark.ml.feature import VectorAssembler"
      ],
      "execution_count": 0,
      "outputs": []
    },
    {
      "cell_type": "code",
      "metadata": {
        "id": "GKiwhzlLRDzd",
        "colab_type": "code",
        "colab": {}
      },
      "source": [
        "assembler = VectorAssembler(inputCols=['Age','Total_Purchase','Account_Manager',\n",
        "                                       'Years','Num_Sites'],outputCol='features')"
      ],
      "execution_count": 0,
      "outputs": []
    },
    {
      "cell_type": "code",
      "metadata": {
        "id": "9tt2yerSRb1h",
        "colab_type": "code",
        "colab": {}
      },
      "source": [
        "output = assembler.transform(data)"
      ],
      "execution_count": 0,
      "outputs": []
    },
    {
      "cell_type": "code",
      "metadata": {
        "id": "0jHr045CRfVQ",
        "colab_type": "code",
        "colab": {}
      },
      "source": [
        "final_data = output.select('features','churn')"
      ],
      "execution_count": 0,
      "outputs": []
    },
    {
      "cell_type": "code",
      "metadata": {
        "id": "b3wKu9FSRkDg",
        "colab_type": "code",
        "colab": {}
      },
      "source": [
        "train_churn,test_churn = final_data.randomSplit([0.7,0.3])"
      ],
      "execution_count": 0,
      "outputs": []
    },
    {
      "cell_type": "code",
      "metadata": {
        "id": "plAs9dG0RqWP",
        "colab_type": "code",
        "colab": {}
      },
      "source": [
        "from pyspark.ml.classification import LogisticRegression"
      ],
      "execution_count": 0,
      "outputs": []
    },
    {
      "cell_type": "code",
      "metadata": {
        "id": "kSFqOQ4XRw95",
        "colab_type": "code",
        "colab": {}
      },
      "source": [
        "lr_churn = LogisticRegression(labelCol='churn')"
      ],
      "execution_count": 0,
      "outputs": []
    },
    {
      "cell_type": "code",
      "metadata": {
        "id": "JOkCM6YfR3J0",
        "colab_type": "code",
        "colab": {}
      },
      "source": [
        "fitted_churn_model = lr_churn.fit(train_churn)"
      ],
      "execution_count": 0,
      "outputs": []
    },
    {
      "cell_type": "code",
      "metadata": {
        "id": "nSDitLbVR8iW",
        "colab_type": "code",
        "colab": {}
      },
      "source": [
        "training_sum = fitted_churn_model.summary"
      ],
      "execution_count": 0,
      "outputs": []
    },
    {
      "cell_type": "code",
      "metadata": {
        "id": "zLIr8QQLSEwh",
        "colab_type": "code",
        "colab": {
          "base_uri": "https://localhost:8080/",
          "height": 202
        },
        "outputId": "510a0e74-03ba-486f-e1de-8c796c41f183"
      },
      "source": [
        "training_sum.predictions.describe().show()"
      ],
      "execution_count": 37,
      "outputs": [
        {
          "output_type": "stream",
          "text": [
            "+-------+-------------------+-------------------+\n",
            "|summary|              churn|         prediction|\n",
            "+-------+-------------------+-------------------+\n",
            "|  count|                656|                656|\n",
            "|   mean|0.17378048780487804|0.13871951219512196|\n",
            "| stddev|  0.379209753615349| 0.3459173540933844|\n",
            "|    min|                0.0|                0.0|\n",
            "|    max|                1.0|                1.0|\n",
            "+-------+-------------------+-------------------+\n",
            "\n"
          ],
          "name": "stdout"
        }
      ]
    },
    {
      "cell_type": "code",
      "metadata": {
        "id": "jFWG5jBFSOr4",
        "colab_type": "code",
        "colab": {}
      },
      "source": [
        "from pyspark.ml.evaluation import BinaryClassificationEvaluator"
      ],
      "execution_count": 0,
      "outputs": []
    },
    {
      "cell_type": "code",
      "metadata": {
        "id": "T1QXsz_kSdL4",
        "colab_type": "code",
        "colab": {}
      },
      "source": [
        "pred_and_labels = fitted_churn_model.evaluate(test_churn)"
      ],
      "execution_count": 0,
      "outputs": []
    },
    {
      "cell_type": "code",
      "metadata": {
        "id": "uggSdC-uSms_",
        "colab_type": "code",
        "colab": {
          "base_uri": "https://localhost:8080/",
          "height": 498
        },
        "outputId": "3df58575-1bc6-49ef-d2a1-719c1bd8597b"
      },
      "source": [
        "pred_and_labels.predictions.show()"
      ],
      "execution_count": 41,
      "outputs": [
        {
          "output_type": "stream",
          "text": [
            "+--------------------+-----+--------------------+--------------------+----------+\n",
            "|            features|churn|       rawPrediction|         probability|prediction|\n",
            "+--------------------+-----+--------------------+--------------------+----------+\n",
            "|[25.0,9672.03,0.0...|    0|[4.49197935228333...|[0.98892556045734...|       0.0|\n",
            "|[28.0,9090.43,1.0...|    0|[1.20666474700528...|[0.76970828251006...|       0.0|\n",
            "|[30.0,6744.87,0.0...|    0|[3.27927817144655...|[0.96371104823905...|       0.0|\n",
            "|[30.0,8403.78,1.0...|    0|[5.85393059451661...|[0.99713960367790...|       0.0|\n",
            "|[30.0,11575.37,1....|    1|[3.89012181236200...|[0.97996668252449...|       0.0|\n",
            "|[30.0,13473.35,0....|    0|[3.01076549917122...|[0.95305811336833...|       0.0|\n",
            "|[31.0,5304.6,0.0,...|    0|[3.12003875302943...|[0.95771179768002...|       0.0|\n",
            "|[31.0,5387.75,0.0...|    0|[2.03441817482296...|[0.88436366852759...|       0.0|\n",
            "|[31.0,10182.6,1.0...|    0|[4.85918017203605...|[0.99230286488992...|       0.0|\n",
            "|[31.0,11743.24,0....|    0|[6.74404460772579...|[0.99882351228054...|       0.0|\n",
            "|[32.0,7896.65,0.0...|    0|[2.99193783680576...|[0.95220857339467...|       0.0|\n",
            "|[32.0,8617.98,1.0...|    1|[0.68344291888210...|[0.66450668752201...|       0.0|\n",
            "|[32.0,9036.27,0.0...|    0|[-0.6316961106307...|[0.34712604940712...|       1.0|\n",
            "|[32.0,9472.72,1.0...|    0|[4.35239998403770...|[0.98728780701209...|       0.0|\n",
            "|[32.0,12403.6,0.0...|    0|[5.71086227057680...|[0.99670110139587...|       0.0|\n",
            "|[32.0,12479.72,0....|    0|[4.73245477112743...|[0.99127201776006...|       0.0|\n",
            "|[33.0,7492.9,0.0,...|    0|[4.43475578585359...|[0.98828100199047...|       0.0|\n",
            "|[33.0,10709.39,1....|    0|[6.14802487029746...|[0.99786686017516...|       0.0|\n",
            "|[33.0,12249.96,0....|    0|[5.88814295888324...|[0.99723554354417...|       0.0|\n",
            "|[33.0,13157.08,1....|    0|[1.46487038615462...|[0.81227645764879...|       0.0|\n",
            "+--------------------+-----+--------------------+--------------------+----------+\n",
            "only showing top 20 rows\n",
            "\n"
          ],
          "name": "stdout"
        }
      ]
    },
    {
      "cell_type": "code",
      "metadata": {
        "id": "TlJH3eLjSsqp",
        "colab_type": "code",
        "colab": {}
      },
      "source": [
        "churn_eval = BinaryClassificationEvaluator(rawPredictionCol='prediction',labelCol='churn')"
      ],
      "execution_count": 0,
      "outputs": []
    },
    {
      "cell_type": "code",
      "metadata": {
        "id": "XNO5j33rS81C",
        "colab_type": "code",
        "colab": {}
      },
      "source": [
        "auc = churn_eval.evaluate(pred_and_labels.predictions)"
      ],
      "execution_count": 0,
      "outputs": []
    },
    {
      "cell_type": "code",
      "metadata": {
        "id": "DH2_BMZ6TDFm",
        "colab_type": "code",
        "colab": {
          "base_uri": "https://localhost:8080/",
          "height": 35
        },
        "outputId": "c1cba580-4bb8-4577-f338-29284336bafe"
      },
      "source": [
        "auc"
      ],
      "execution_count": 44,
      "outputs": [
        {
          "output_type": "execute_result",
          "data": {
            "text/plain": [
              "0.7863247863247863"
            ]
          },
          "metadata": {
            "tags": []
          },
          "execution_count": 44
        }
      ]
    },
    {
      "cell_type": "code",
      "metadata": {
        "id": "H0gfhBSZTSFI",
        "colab_type": "code",
        "colab": {}
      },
      "source": [
        "final_lr_model = lr_churn.fit(final_data)"
      ],
      "execution_count": 0,
      "outputs": []
    },
    {
      "cell_type": "markdown",
      "metadata": {
        "id": "ce4JSiXSTKWw",
        "colab_type": "text"
      },
      "source": [
        "### Prediction on new data"
      ]
    },
    {
      "cell_type": "code",
      "metadata": {
        "id": "vT9T2mMCTD6H",
        "colab_type": "code",
        "colab": {}
      },
      "source": [
        "new_customers = spark.read.csv('new_customers.csv',inferSchema=True,header=True)"
      ],
      "execution_count": 0,
      "outputs": []
    },
    {
      "cell_type": "code",
      "metadata": {
        "id": "3AhCmsJRTnMB",
        "colab_type": "code",
        "colab": {
          "base_uri": "https://localhost:8080/",
          "height": 220
        },
        "outputId": "0fc24fb2-bc58-4672-a8b7-c1207e94f19d"
      },
      "source": [
        "new_customers.printSchema()"
      ],
      "execution_count": 47,
      "outputs": [
        {
          "output_type": "stream",
          "text": [
            "root\n",
            " |-- Names: string (nullable = true)\n",
            " |-- Age: double (nullable = true)\n",
            " |-- Total_Purchase: double (nullable = true)\n",
            " |-- Account_Manager: integer (nullable = true)\n",
            " |-- Years: double (nullable = true)\n",
            " |-- Num_Sites: double (nullable = true)\n",
            " |-- Onboard_date: timestamp (nullable = true)\n",
            " |-- Location: string (nullable = true)\n",
            " |-- Company: string (nullable = true)\n",
            "\n"
          ],
          "name": "stdout"
        }
      ]
    },
    {
      "cell_type": "code",
      "metadata": {
        "id": "31Sc1EWQTvYk",
        "colab_type": "code",
        "colab": {}
      },
      "source": [
        "test_new_customers = assembler.transform(new_customers)"
      ],
      "execution_count": 0,
      "outputs": []
    },
    {
      "cell_type": "code",
      "metadata": {
        "id": "0F40KAUFT2JB",
        "colab_type": "code",
        "colab": {
          "base_uri": "https://localhost:8080/",
          "height": 239
        },
        "outputId": "b29433a5-6480-402e-addb-c45c2d87d440"
      },
      "source": [
        "test_new_customers.printSchema()"
      ],
      "execution_count": 50,
      "outputs": [
        {
          "output_type": "stream",
          "text": [
            "root\n",
            " |-- Names: string (nullable = true)\n",
            " |-- Age: double (nullable = true)\n",
            " |-- Total_Purchase: double (nullable = true)\n",
            " |-- Account_Manager: integer (nullable = true)\n",
            " |-- Years: double (nullable = true)\n",
            " |-- Num_Sites: double (nullable = true)\n",
            " |-- Onboard_date: timestamp (nullable = true)\n",
            " |-- Location: string (nullable = true)\n",
            " |-- Company: string (nullable = true)\n",
            " |-- features: vector (nullable = true)\n",
            "\n"
          ],
          "name": "stdout"
        }
      ]
    },
    {
      "cell_type": "code",
      "metadata": {
        "id": "EKYznECkT5a9",
        "colab_type": "code",
        "colab": {}
      },
      "source": [
        "final_results = final_lr_model.transform(test_new_customers)"
      ],
      "execution_count": 0,
      "outputs": []
    },
    {
      "cell_type": "code",
      "metadata": {
        "id": "l6UtS_JKUA73",
        "colab_type": "code",
        "colab": {
          "base_uri": "https://localhost:8080/",
          "height": 220
        },
        "outputId": "331b10da-490b-4433-f294-0f0870dd29ba"
      },
      "source": [
        "final_results.select('Company','prediction').show()"
      ],
      "execution_count": 53,
      "outputs": [
        {
          "output_type": "stream",
          "text": [
            "+----------------+----------+\n",
            "|         Company|prediction|\n",
            "+----------------+----------+\n",
            "|        King Ltd|       0.0|\n",
            "|   Cannon-Benson|       1.0|\n",
            "|Barron-Robertson|       1.0|\n",
            "|   Sexton-Golden|       1.0|\n",
            "|        Wood LLC|       0.0|\n",
            "|   Parks-Robbins|       1.0|\n",
            "+----------------+----------+\n",
            "\n"
          ],
          "name": "stdout"
        }
      ]
    },
    {
      "cell_type": "code",
      "metadata": {
        "id": "HtVrofhpUHSi",
        "colab_type": "code",
        "colab": {}
      },
      "source": [
        ""
      ],
      "execution_count": 0,
      "outputs": []
    }
  ]
}