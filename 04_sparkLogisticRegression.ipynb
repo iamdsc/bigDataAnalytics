{
  "nbformat": 4,
  "nbformat_minor": 0,
  "metadata": {
    "colab": {
      "name": "04_sparkLogisticRegression.ipynb",
      "version": "0.3.2",
      "provenance": []
    },
    "kernelspec": {
      "name": "python3",
      "display_name": "Python 3"
    },
    "accelerator": "GPU"
  },
  "cells": [
    {
      "cell_type": "code",
      "metadata": {
        "id": "ouFgfa92ETi5",
        "colab_type": "code",
        "colab": {}
      },
      "source": [
        "!apt-get install openjdk-8-jdk-headless -qq > /dev/null\n",
        "!wget -q http://www-eu.apache.org/dist/spark/spark-2.3.3/spark-2.3.3-bin-hadoop2.7.tgz\n",
        "!tar xf spark-2.3.3-bin-hadoop2.7.tgz\n",
        "!pip install -q findspark"
      ],
      "execution_count": 0,
      "outputs": []
    },
    {
      "cell_type": "code",
      "metadata": {
        "id": "KFSjufNgEfUk",
        "colab_type": "code",
        "colab": {}
      },
      "source": [
        "import os\n",
        "os.environ[\"JAVA_HOME\"] = \"/usr/lib/jvm/java-8-openjdk-amd64\"\n",
        "os.environ[\"SPARK_HOME\"] = \"/content/spark-2.3.3-bin-hadoop2.7\""
      ],
      "execution_count": 0,
      "outputs": []
    },
    {
      "cell_type": "code",
      "metadata": {
        "id": "gglG2dRJEx81",
        "colab_type": "code",
        "colab": {}
      },
      "source": [
        "import findspark\n",
        "findspark.init()\n",
        "from pyspark.sql import SparkSession"
      ],
      "execution_count": 0,
      "outputs": []
    },
    {
      "cell_type": "code",
      "metadata": {
        "id": "FbdWIo3pE0Lc",
        "colab_type": "code",
        "colab": {}
      },
      "source": [
        "spark = SparkSession.builder.appName('mylogreg').getOrCreate()"
      ],
      "execution_count": 0,
      "outputs": []
    },
    {
      "cell_type": "code",
      "metadata": {
        "id": "HdEcJsxSFLqY",
        "colab_type": "code",
        "colab": {}
      },
      "source": [
        "from pyspark.ml.classification import LogisticRegression"
      ],
      "execution_count": 0,
      "outputs": []
    },
    {
      "cell_type": "code",
      "metadata": {
        "id": "eA7x3eQnFUPT",
        "colab_type": "code",
        "colab": {}
      },
      "source": [
        "my_data = spark.read.format('libsvm').load('sample_libsvm_data.txt')"
      ],
      "execution_count": 0,
      "outputs": []
    },
    {
      "cell_type": "code",
      "metadata": {
        "id": "uZrntLYiFfkt",
        "colab_type": "code",
        "colab": {
          "base_uri": "https://localhost:8080/",
          "height": 498
        },
        "outputId": "90e3bd5c-64f5-4dd3-8237-440b6ac6798b"
      },
      "source": [
        "my_data.show()"
      ],
      "execution_count": 7,
      "outputs": [
        {
          "output_type": "stream",
          "text": [
            "+-----+--------------------+\n",
            "|label|            features|\n",
            "+-----+--------------------+\n",
            "|  0.0|(692,[127,128,129...|\n",
            "|  1.0|(692,[158,159,160...|\n",
            "|  1.0|(692,[124,125,126...|\n",
            "|  1.0|(692,[152,153,154...|\n",
            "|  1.0|(692,[151,152,153...|\n",
            "|  0.0|(692,[129,130,131...|\n",
            "|  1.0|(692,[158,159,160...|\n",
            "|  1.0|(692,[99,100,101,...|\n",
            "|  0.0|(692,[154,155,156...|\n",
            "|  0.0|(692,[127,128,129...|\n",
            "|  1.0|(692,[154,155,156...|\n",
            "|  0.0|(692,[153,154,155...|\n",
            "|  0.0|(692,[151,152,153...|\n",
            "|  1.0|(692,[129,130,131...|\n",
            "|  0.0|(692,[154,155,156...|\n",
            "|  1.0|(692,[150,151,152...|\n",
            "|  0.0|(692,[124,125,126...|\n",
            "|  0.0|(692,[152,153,154...|\n",
            "|  1.0|(692,[97,98,99,12...|\n",
            "|  1.0|(692,[124,125,126...|\n",
            "+-----+--------------------+\n",
            "only showing top 20 rows\n",
            "\n"
          ],
          "name": "stdout"
        }
      ]
    },
    {
      "cell_type": "code",
      "metadata": {
        "id": "fi_4oza7FkKP",
        "colab_type": "code",
        "colab": {}
      },
      "source": [
        "my_log_reg_model = LogisticRegression()"
      ],
      "execution_count": 0,
      "outputs": []
    },
    {
      "cell_type": "code",
      "metadata": {
        "id": "yIGTWtA0F0bH",
        "colab_type": "code",
        "colab": {}
      },
      "source": [
        "fitted_logreg = my_log_reg_model.fit(my_data)"
      ],
      "execution_count": 0,
      "outputs": []
    },
    {
      "cell_type": "code",
      "metadata": {
        "id": "1uoybAyaF87T",
        "colab_type": "code",
        "colab": {}
      },
      "source": [
        "log_summary = fitted_logreg.summary"
      ],
      "execution_count": 0,
      "outputs": []
    },
    {
      "cell_type": "code",
      "metadata": {
        "id": "yLk_kNMKGEx3",
        "colab_type": "code",
        "colab": {
          "base_uri": "https://localhost:8080/",
          "height": 498
        },
        "outputId": "4c8be3b1-35a6-4eb0-953b-9e4e7975ff93"
      },
      "source": [
        "log_summary.predictions.show()"
      ],
      "execution_count": 12,
      "outputs": [
        {
          "output_type": "stream",
          "text": [
            "+-----+--------------------+--------------------+--------------------+----------+\n",
            "|label|            features|       rawPrediction|         probability|prediction|\n",
            "+-----+--------------------+--------------------+--------------------+----------+\n",
            "|  0.0|(692,[127,128,129...|[19.8534775947478...|[0.99999999761359...|       0.0|\n",
            "|  1.0|(692,[158,159,160...|[-20.377398194908...|[1.41321555111056...|       1.0|\n",
            "|  1.0|(692,[124,125,126...|[-27.401459284891...|[1.25804865126979...|       1.0|\n",
            "|  1.0|(692,[152,153,154...|[-18.862741612668...|[6.42710509170303...|       1.0|\n",
            "|  1.0|(692,[151,152,153...|[-20.483011833009...|[1.27157209200604...|       1.0|\n",
            "|  0.0|(692,[129,130,131...|[19.8506078990277...|[0.99999999760673...|       0.0|\n",
            "|  1.0|(692,[158,159,160...|[-20.337256674833...|[1.47109814695581...|       1.0|\n",
            "|  1.0|(692,[99,100,101,...|[-19.595579753418...|[3.08850168102631...|       1.0|\n",
            "|  0.0|(692,[154,155,156...|[19.2708803215613...|[0.99999999572670...|       0.0|\n",
            "|  0.0|(692,[127,128,129...|[23.6202328360422...|[0.99999999994480...|       0.0|\n",
            "|  1.0|(692,[154,155,156...|[-24.385235147661...|[2.56818872776510...|       1.0|\n",
            "|  0.0|(692,[153,154,155...|[26.3082522490179...|[0.99999999999624...|       0.0|\n",
            "|  0.0|(692,[151,152,153...|[25.8329060318703...|[0.99999999999396...|       0.0|\n",
            "|  1.0|(692,[129,130,131...|[-19.794609139086...|[2.53110684529575...|       1.0|\n",
            "|  0.0|(692,[154,155,156...|[21.0260440948067...|[0.99999999926123...|       0.0|\n",
            "|  1.0|(692,[150,151,152...|[-22.764979942873...|[1.29806018790941...|       1.0|\n",
            "|  0.0|(692,[124,125,126...|[21.5049307193954...|[0.99999999954235...|       0.0|\n",
            "|  0.0|(692,[152,153,154...|[31.9927184226421...|[0.99999999999998...|       0.0|\n",
            "|  1.0|(692,[97,98,99,12...|[-20.521067180414...|[1.22409115616505...|       1.0|\n",
            "|  1.0|(692,[124,125,126...|[-22.245377742755...|[2.18250475400332...|       1.0|\n",
            "+-----+--------------------+--------------------+--------------------+----------+\n",
            "only showing top 20 rows\n",
            "\n"
          ],
          "name": "stdout"
        }
      ]
    },
    {
      "cell_type": "code",
      "metadata": {
        "id": "5vu9tqpeGKHm",
        "colab_type": "code",
        "colab": {}
      },
      "source": [
        "lr_train,lr_test = my_data.randomSplit([0.7,0.3])"
      ],
      "execution_count": 0,
      "outputs": []
    },
    {
      "cell_type": "code",
      "metadata": {
        "id": "7CUKVKcAGqIi",
        "colab_type": "code",
        "colab": {}
      },
      "source": [
        "final_model = LogisticRegression()"
      ],
      "execution_count": 0,
      "outputs": []
    },
    {
      "cell_type": "code",
      "metadata": {
        "id": "w-qddUrCGs-w",
        "colab_type": "code",
        "colab": {}
      },
      "source": [
        "fit_final = final_model.fit(lr_train)"
      ],
      "execution_count": 0,
      "outputs": []
    },
    {
      "cell_type": "code",
      "metadata": {
        "id": "GhNLO74SGwml",
        "colab_type": "code",
        "colab": {}
      },
      "source": [
        "prediction_and_labels = fit_final.evaluate(lr_test)"
      ],
      "execution_count": 0,
      "outputs": []
    },
    {
      "cell_type": "code",
      "metadata": {
        "id": "6Ejqk2k1G2Y5",
        "colab_type": "code",
        "colab": {
          "base_uri": "https://localhost:8080/",
          "height": 498
        },
        "outputId": "52743b70-9115-4390-e282-89704419dd46"
      },
      "source": [
        "prediction_and_labels.predictions.show()"
      ],
      "execution_count": 18,
      "outputs": [
        {
          "output_type": "stream",
          "text": [
            "+-----+--------------------+--------------------+--------------------+----------+\n",
            "|label|            features|       rawPrediction|         probability|prediction|\n",
            "+-----+--------------------+--------------------+--------------------+----------+\n",
            "|  0.0|(692,[95,96,97,12...|[23.4706906845332...|[0.99999999993590...|       0.0|\n",
            "|  0.0|(692,[100,101,102...|[10.7816138335672...|[0.99997922239037...|       0.0|\n",
            "|  0.0|(692,[122,123,124...|[20.3754981196014...|[0.99999999858409...|       0.0|\n",
            "|  0.0|(692,[124,125,126...|[38.1505699977623...|[1.0,2.7003370083...|       0.0|\n",
            "|  0.0|(692,[124,125,126...|[32.7128113696880...|[0.99999999999999...|       0.0|\n",
            "|  0.0|(692,[124,125,126...|[22.4460510537293...|[0.99999999982143...|       0.0|\n",
            "|  0.0|(692,[124,125,126...|[24.1401724547417...|[0.99999999996718...|       0.0|\n",
            "|  0.0|(692,[126,127,128...|[19.0325586282103...|[0.99999999457668...|       0.0|\n",
            "|  0.0|(692,[126,127,128...|[34.2432786950352...|[0.99999999999999...|       0.0|\n",
            "|  0.0|(692,[126,127,128...|[25.8683211133060...|[0.99999999999417...|       0.0|\n",
            "|  0.0|(692,[126,127,128...|[30.6193434982839...|[0.99999999999994...|       0.0|\n",
            "|  0.0|(692,[127,128,129...|[24.0140165750038...|[0.99999999996277...|       0.0|\n",
            "|  0.0|(692,[127,128,129...|[22.5646351960573...|[0.9999999998414,...|       0.0|\n",
            "|  0.0|(692,[129,130,131...|[16.9683839102978...|[0.99999995727082...|       0.0|\n",
            "|  0.0|(692,[150,151,152...|[26.2441941853302...|[0.99999999999599...|       0.0|\n",
            "|  0.0|(692,[151,152,153...|[31.6936855350000...|[0.99999999999998...|       0.0|\n",
            "|  0.0|(692,[152,153,154...|[32.3691106478099...|[0.99999999999999...|       0.0|\n",
            "|  0.0|(692,[153,154,155...|[29.8514370484579...|[0.99999999999989...|       0.0|\n",
            "|  1.0|(692,[99,100,101,...|[-11.456002673534...|[1.05856287058318...|       1.0|\n",
            "|  1.0|(692,[123,124,125...|[-25.294510498936...|[1.03450755786120...|       1.0|\n",
            "+-----+--------------------+--------------------+--------------------+----------+\n",
            "only showing top 20 rows\n",
            "\n"
          ],
          "name": "stdout"
        }
      ]
    },
    {
      "cell_type": "markdown",
      "metadata": {
        "id": "xuJNUK5CHPxG",
        "colab_type": "text"
      },
      "source": [
        "### Using Evaluator object"
      ]
    },
    {
      "cell_type": "code",
      "metadata": {
        "id": "BsId_ZXnG-QW",
        "colab_type": "code",
        "colab": {}
      },
      "source": [
        "from pyspark.ml.evaluation import (BinaryClassificationEvaluator,\n",
        "                                  MulticlassClassificationEvaluator)"
      ],
      "execution_count": 0,
      "outputs": []
    },
    {
      "cell_type": "code",
      "metadata": {
        "id": "gYfSNVzwHgip",
        "colab_type": "code",
        "colab": {}
      },
      "source": [
        "my_eval = BinaryClassificationEvaluator()"
      ],
      "execution_count": 0,
      "outputs": []
    },
    {
      "cell_type": "code",
      "metadata": {
        "id": "Tjvk0Nc0IoSP",
        "colab_type": "code",
        "colab": {}
      },
      "source": [
        "my_final_roc = my_eval.evaluate(prediction_and_labels.predictions)"
      ],
      "execution_count": 0,
      "outputs": []
    },
    {
      "cell_type": "code",
      "metadata": {
        "id": "6rM7QRBkIyu7",
        "colab_type": "code",
        "colab": {
          "base_uri": "https://localhost:8080/",
          "height": 35
        },
        "outputId": "dbb19f11-0a29-4be5-c7bd-e8b1db3e9e9c"
      },
      "source": [
        "my_final_roc"
      ],
      "execution_count": 22,
      "outputs": [
        {
          "output_type": "execute_result",
          "data": {
            "text/plain": [
              "1.0"
            ]
          },
          "metadata": {
            "tags": []
          },
          "execution_count": 22
        }
      ]
    },
    {
      "cell_type": "code",
      "metadata": {
        "id": "7eW5HJPPI0Pp",
        "colab_type": "code",
        "colab": {}
      },
      "source": [
        ""
      ],
      "execution_count": 0,
      "outputs": []
    }
  ]
}