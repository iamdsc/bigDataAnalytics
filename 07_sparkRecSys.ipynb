{
  "nbformat": 4,
  "nbformat_minor": 0,
  "metadata": {
    "colab": {
      "name": "07_sparkRecSys.ipynb",
      "version": "0.3.2",
      "provenance": []
    },
    "kernelspec": {
      "name": "python3",
      "display_name": "Python 3"
    }
  },
  "cells": [
    {
      "cell_type": "code",
      "metadata": {
        "id": "QpEFLl-VUMvO",
        "colab_type": "code",
        "colab": {}
      },
      "source": [
        "!apt-get install openjdk-8-jdk-headless -qq > /dev/null\n",
        "!wget -q http://www-eu.apache.org/dist/spark/spark-2.3.3/spark-2.3.3-bin-hadoop2.7.tgz\n",
        "!tar xf spark-2.3.3-bin-hadoop2.7.tgz\n",
        "!pip install -q findspark"
      ],
      "execution_count": 0,
      "outputs": []
    },
    {
      "cell_type": "code",
      "metadata": {
        "id": "SNaNlOhCUVk9",
        "colab_type": "code",
        "colab": {}
      },
      "source": [
        "import os\n",
        "os.environ[\"JAVA_HOME\"] = \"/usr/lib/jvm/java-8-openjdk-amd64\"\n",
        "os.environ[\"SPARK_HOME\"] = \"/content/spark-2.3.3-bin-hadoop2.7\""
      ],
      "execution_count": 0,
      "outputs": []
    },
    {
      "cell_type": "code",
      "metadata": {
        "id": "pSAO2et-UYLZ",
        "colab_type": "code",
        "colab": {}
      },
      "source": [
        "import findspark\n",
        "findspark.init()\n",
        "from pyspark.sql import SparkSession"
      ],
      "execution_count": 0,
      "outputs": []
    },
    {
      "cell_type": "code",
      "metadata": {
        "id": "h8KfPgjpUaRU",
        "colab_type": "code",
        "colab": {}
      },
      "source": [
        "spark = SparkSession.builder.appName('rec').getOrCreate()"
      ],
      "execution_count": 0,
      "outputs": []
    },
    {
      "cell_type": "code",
      "metadata": {
        "id": "Dfd_9oziUlJx",
        "colab_type": "code",
        "colab": {}
      },
      "source": [
        "from pyspark.ml.recommendation import ALS"
      ],
      "execution_count": 0,
      "outputs": []
    },
    {
      "cell_type": "code",
      "metadata": {
        "id": "VhoUA9BpUwuC",
        "colab_type": "code",
        "colab": {}
      },
      "source": [
        "from pyspark.ml.evaluation import RegressionEvaluator"
      ],
      "execution_count": 0,
      "outputs": []
    },
    {
      "cell_type": "code",
      "metadata": {
        "id": "cpGaziz3U41M",
        "colab_type": "code",
        "colab": {}
      },
      "source": [
        "data = spark.read.csv('movielens_ratings.csv',inferSchema=True,header=True)"
      ],
      "execution_count": 0,
      "outputs": []
    },
    {
      "cell_type": "code",
      "metadata": {
        "id": "VV5h8fpItIr6",
        "colab_type": "code",
        "colab": {
          "base_uri": "https://localhost:8080/",
          "height": 498
        },
        "outputId": "4aafc2d7-4507-40bf-ea15-612cd99fc95f"
      },
      "source": [
        "data.show()"
      ],
      "execution_count": 8,
      "outputs": [
        {
          "output_type": "stream",
          "text": [
            "+-------+------+------+\n",
            "|movieId|rating|userId|\n",
            "+-------+------+------+\n",
            "|      2|   3.0|     0|\n",
            "|      3|   1.0|     0|\n",
            "|      5|   2.0|     0|\n",
            "|      9|   4.0|     0|\n",
            "|     11|   1.0|     0|\n",
            "|     12|   2.0|     0|\n",
            "|     15|   1.0|     0|\n",
            "|     17|   1.0|     0|\n",
            "|     19|   1.0|     0|\n",
            "|     21|   1.0|     0|\n",
            "|     23|   1.0|     0|\n",
            "|     26|   3.0|     0|\n",
            "|     27|   1.0|     0|\n",
            "|     28|   1.0|     0|\n",
            "|     29|   1.0|     0|\n",
            "|     30|   1.0|     0|\n",
            "|     31|   1.0|     0|\n",
            "|     34|   1.0|     0|\n",
            "|     37|   1.0|     0|\n",
            "|     41|   2.0|     0|\n",
            "+-------+------+------+\n",
            "only showing top 20 rows\n",
            "\n"
          ],
          "name": "stdout"
        }
      ]
    },
    {
      "cell_type": "code",
      "metadata": {
        "id": "HxsocijItNhi",
        "colab_type": "code",
        "colab": {
          "base_uri": "https://localhost:8080/",
          "height": 202
        },
        "outputId": "b6dbf1ce-217c-4520-bafc-ff0e8748b939"
      },
      "source": [
        "data.describe().show()"
      ],
      "execution_count": 10,
      "outputs": [
        {
          "output_type": "stream",
          "text": [
            "+-------+------------------+------------------+------------------+\n",
            "|summary|           movieId|            rating|            userId|\n",
            "+-------+------------------+------------------+------------------+\n",
            "|  count|              1501|              1501|              1501|\n",
            "|   mean| 49.40572951365756|1.7741505662891406|14.383744170552964|\n",
            "| stddev|28.937034065088994| 1.187276166124803| 8.591040424293272|\n",
            "|    min|                 0|               1.0|                 0|\n",
            "|    max|                99|               5.0|                29|\n",
            "+-------+------------------+------------------+------------------+\n",
            "\n"
          ],
          "name": "stdout"
        }
      ]
    },
    {
      "cell_type": "code",
      "metadata": {
        "id": "xdSni_80teSy",
        "colab_type": "code",
        "colab": {}
      },
      "source": [
        "training, test = data.randomSplit([0.8,0.2])"
      ],
      "execution_count": 0,
      "outputs": []
    },
    {
      "cell_type": "code",
      "metadata": {
        "id": "MTokf64_twmv",
        "colab_type": "code",
        "colab": {}
      },
      "source": [
        "als = ALS(maxIter=5,regParam=0.01,userCol='userId',itemCol='movieId',ratingCol='rating')"
      ],
      "execution_count": 0,
      "outputs": []
    },
    {
      "cell_type": "code",
      "metadata": {
        "id": "GOayQId7uEDo",
        "colab_type": "code",
        "colab": {}
      },
      "source": [
        "model = als.fit(training)"
      ],
      "execution_count": 0,
      "outputs": []
    },
    {
      "cell_type": "code",
      "metadata": {
        "id": "3dvGYU9quGrK",
        "colab_type": "code",
        "colab": {
          "base_uri": "https://localhost:8080/",
          "height": 498
        },
        "outputId": "885798fd-f464-4b2e-c6e2-9272c35df39e"
      },
      "source": [
        "predictions = model.transform(test)\n",
        "predictions.show()"
      ],
      "execution_count": 14,
      "outputs": [
        {
          "output_type": "stream",
          "text": [
            "+-------+------+------+----------+\n",
            "|movieId|rating|userId|prediction|\n",
            "+-------+------+------+----------+\n",
            "|     31|   1.0|    13| 1.5194738|\n",
            "|     31|   3.0|     7| 1.9451195|\n",
            "|     31|   2.0|    25| 3.8665628|\n",
            "|     31|   3.0|    14| 2.8040915|\n",
            "|     85|   3.0|     1| 0.8154763|\n",
            "|     85|   3.0|     6|  2.313168|\n",
            "|     85|   2.0|    20| -0.376954|\n",
            "|     85|   5.0|     8| 1.3570306|\n",
            "|     85|   1.0|     2| 3.7001705|\n",
            "|     65|   2.0|     5| 1.7778337|\n",
            "|     65|   1.0|     4|-0.7954771|\n",
            "|     53|   1.0|     6| 2.9969614|\n",
            "|     53|   1.0|     7| 1.4965177|\n",
            "|     78|   1.0|    17| 1.0335387|\n",
            "|     78|   1.0|    24| 0.4653482|\n",
            "|     78|   1.0|    11|  0.726068|\n",
            "|     34|   1.0|    19| 2.5724607|\n",
            "|     34|   1.0|    15| 2.6836839|\n",
            "|     34|   4.0|     2| 1.8256531|\n",
            "|     81|   5.0|    28| 0.6097967|\n",
            "+-------+------+------+----------+\n",
            "only showing top 20 rows\n",
            "\n"
          ],
          "name": "stdout"
        }
      ]
    },
    {
      "cell_type": "code",
      "metadata": {
        "id": "zPh_KbZwuMx3",
        "colab_type": "code",
        "colab": {}
      },
      "source": [
        "evaluator = RegressionEvaluator(metricName='rmse',labelCol='rating',predictionCol='prediction')"
      ],
      "execution_count": 0,
      "outputs": []
    },
    {
      "cell_type": "code",
      "metadata": {
        "id": "wZHzyBYdup8U",
        "colab_type": "code",
        "colab": {}
      },
      "source": [
        "rmse = evaluator.evaluate(predictions)"
      ],
      "execution_count": 0,
      "outputs": []
    },
    {
      "cell_type": "code",
      "metadata": {
        "id": "dE5RPFa6uuRP",
        "colab_type": "code",
        "colab": {
          "base_uri": "https://localhost:8080/",
          "height": 35
        },
        "outputId": "5d91a5b9-2162-4463-facf-a467b197e56d"
      },
      "source": [
        "print(rmse)"
      ],
      "execution_count": 17,
      "outputs": [
        {
          "output_type": "stream",
          "text": [
            "1.4869123065744994\n"
          ],
          "name": "stdout"
        }
      ]
    },
    {
      "cell_type": "markdown",
      "metadata": {
        "id": "InogpJxcwi2h",
        "colab_type": "text"
      },
      "source": [
        "### Recommend Single User"
      ]
    },
    {
      "cell_type": "code",
      "metadata": {
        "id": "tFgWdPLguwGo",
        "colab_type": "code",
        "colab": {}
      },
      "source": [
        "single_user = test.filter(test['userId']==11).select(['movieId','userId'])"
      ],
      "execution_count": 0,
      "outputs": []
    },
    {
      "cell_type": "code",
      "metadata": {
        "id": "kRTKEPKvvAv3",
        "colab_type": "code",
        "colab": {
          "base_uri": "https://localhost:8080/",
          "height": 313
        },
        "outputId": "b0e94c0e-07d4-41ca-adb7-480e4a894adb"
      },
      "source": [
        "single_user.show()"
      ],
      "execution_count": 27,
      "outputs": [
        {
          "output_type": "stream",
          "text": [
            "+-------+------+\n",
            "|movieId|userId|\n",
            "+-------+------+\n",
            "|     22|    11|\n",
            "|     25|    11|\n",
            "|     36|    11|\n",
            "|     47|    11|\n",
            "|     50|    11|\n",
            "|     59|    11|\n",
            "|     67|    11|\n",
            "|     72|    11|\n",
            "|     78|    11|\n",
            "|     80|    11|\n",
            "|     99|    11|\n",
            "+-------+------+\n",
            "\n"
          ],
          "name": "stdout"
        }
      ]
    },
    {
      "cell_type": "code",
      "metadata": {
        "id": "ZZe-rzkHvDOP",
        "colab_type": "code",
        "colab": {}
      },
      "source": [
        "recommendations = model.transform(single_user)"
      ],
      "execution_count": 0,
      "outputs": []
    },
    {
      "cell_type": "code",
      "metadata": {
        "id": "8TqrjCosvRB9",
        "colab_type": "code",
        "colab": {
          "base_uri": "https://localhost:8080/",
          "height": 313
        },
        "outputId": "e3bdbab8-e6ba-446b-bdfd-22a5d8efc119"
      },
      "source": [
        "recommendations.orderBy('prediction',ascending=False).show()"
      ],
      "execution_count": 29,
      "outputs": [
        {
          "output_type": "stream",
          "text": [
            "+-------+------+-----------+\n",
            "|movieId|userId| prediction|\n",
            "+-------+------+-----------+\n",
            "|     36|    11|  3.5271435|\n",
            "|     22|    11|  3.3225474|\n",
            "|     80|    11|  3.0185175|\n",
            "|     50|    11|  2.1668868|\n",
            "|     47|    11|  1.1818218|\n",
            "|     99|    11|  1.1172342|\n",
            "|     67|    11|   0.793117|\n",
            "|     78|    11|   0.726068|\n",
            "|     25|    11|  0.6304986|\n",
            "|     59|    11|  0.5876398|\n",
            "|     72|    11|-0.23257433|\n",
            "+-------+------+-----------+\n",
            "\n"
          ],
          "name": "stdout"
        }
      ]
    },
    {
      "cell_type": "code",
      "metadata": {
        "id": "Y91wYBvvvZM2",
        "colab_type": "code",
        "colab": {}
      },
      "source": [
        ""
      ],
      "execution_count": 0,
      "outputs": []
    }
  ]
}