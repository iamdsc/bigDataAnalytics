{
  "nbformat": 4,
  "nbformat_minor": 0,
  "metadata": {
    "colab": {
      "name": "08_sparkNLP.ipynb",
      "version": "0.3.2",
      "provenance": []
    },
    "kernelspec": {
      "name": "python3",
      "display_name": "Python 3"
    },
    "accelerator": "GPU"
  },
  "cells": [
    {
      "cell_type": "code",
      "metadata": {
        "id": "uEsbZmdY-rvz",
        "colab_type": "code",
        "colab": {}
      },
      "source": [
        "!apt-get install openjdk-8-jdk-headless -qq > /dev/null\n",
        "!wget -q http://www-eu.apache.org/dist/spark/spark-2.3.3/spark-2.3.3-bin-hadoop2.7.tgz\n",
        "!tar xf spark-2.3.3-bin-hadoop2.7.tgz\n",
        "!pip install -q findspark"
      ],
      "execution_count": 0,
      "outputs": []
    },
    {
      "cell_type": "code",
      "metadata": {
        "id": "nZXsOwN1_1c1",
        "colab_type": "code",
        "colab": {}
      },
      "source": [
        "import os\n",
        "os.environ[\"JAVA_HOME\"] = \"/usr/lib/jvm/java-8-openjdk-amd64\"\n",
        "os.environ[\"SPARK_HOME\"] = \"/content/spark-2.3.3-bin-hadoop2.7\""
      ],
      "execution_count": 0,
      "outputs": []
    },
    {
      "cell_type": "code",
      "metadata": {
        "id": "7p8Zezj__5uy",
        "colab_type": "code",
        "colab": {}
      },
      "source": [
        "import findspark\n",
        "findspark.init()\n",
        "from pyspark.sql import SparkSession"
      ],
      "execution_count": 0,
      "outputs": []
    },
    {
      "cell_type": "code",
      "metadata": {
        "id": "M8PxtfVQ_7SW",
        "colab_type": "code",
        "colab": {}
      },
      "source": [
        "spark = SparkSession.builder.appName('nlp').getOrCreate()"
      ],
      "execution_count": 0,
      "outputs": []
    },
    {
      "cell_type": "markdown",
      "metadata": {
        "id": "PUuq3pIuDc-T",
        "colab_type": "text"
      },
      "source": [
        "### Tokenization"
      ]
    },
    {
      "cell_type": "code",
      "metadata": {
        "id": "8_pbYj4YAJjq",
        "colab_type": "code",
        "colab": {}
      },
      "source": [
        "from pyspark.ml.feature import Tokenizer, RegexTokenizer\n",
        "from pyspark.sql.functions import col, udf\n",
        "from pyspark.sql.types import IntegerType"
      ],
      "execution_count": 0,
      "outputs": []
    },
    {
      "cell_type": "code",
      "metadata": {
        "id": "8mPZuZRPAkuD",
        "colab_type": "code",
        "colab": {}
      },
      "source": [
        "sen_df = spark.createDataFrame([\n",
        "    (0, 'Hi I heard about Spark'),\n",
        "    (1, 'I wish Java could use case classes'),\n",
        "    (2, 'Logistic,regression,models,are,neat')],\n",
        "    ['id','sentence'])"
      ],
      "execution_count": 0,
      "outputs": []
    },
    {
      "cell_type": "code",
      "metadata": {
        "id": "P0FSl0zEAtG9",
        "colab_type": "code",
        "outputId": "eafecf4c-13e0-4352-a67e-09cc1f3fe430",
        "colab": {
          "base_uri": "https://localhost:8080/",
          "height": 165
        }
      },
      "source": [
        "sen_df.show()"
      ],
      "execution_count": 0,
      "outputs": [
        {
          "output_type": "stream",
          "text": [
            "+---+--------------------+\n",
            "| id|            sentence|\n",
            "+---+--------------------+\n",
            "|  0|Hi I heard about ...|\n",
            "|  1|I wish Java could...|\n",
            "|  2|Logistic,regressi...|\n",
            "+---+--------------------+\n",
            "\n"
          ],
          "name": "stdout"
        }
      ]
    },
    {
      "cell_type": "code",
      "metadata": {
        "id": "Ul2SEVRqAx68",
        "colab_type": "code",
        "colab": {}
      },
      "source": [
        "tokenizer = Tokenizer(inputCol='sentence',outputCol='words')\n",
        "regex_tokenizer = RegexTokenizer(inputCol='sentence',outputCol='words',\n",
        "                                pattern='\\\\W')"
      ],
      "execution_count": 0,
      "outputs": []
    },
    {
      "cell_type": "code",
      "metadata": {
        "id": "qcMA9rBPClDV",
        "colab_type": "code",
        "colab": {}
      },
      "source": [
        "count_tokens = udf(lambda words:len(words),IntegerType())"
      ],
      "execution_count": 0,
      "outputs": []
    },
    {
      "cell_type": "code",
      "metadata": {
        "id": "oc6wv2DeCtLe",
        "colab_type": "code",
        "colab": {}
      },
      "source": [
        "tokenized = tokenizer.transform(sen_df)"
      ],
      "execution_count": 0,
      "outputs": []
    },
    {
      "cell_type": "code",
      "metadata": {
        "id": "pbEJqt92CyXt",
        "colab_type": "code",
        "outputId": "084f6baa-bd14-4b89-f0c2-51a2586adcfa",
        "colab": {
          "base_uri": "https://localhost:8080/",
          "height": 165
        }
      },
      "source": [
        "tokenized.show()"
      ],
      "execution_count": 0,
      "outputs": [
        {
          "output_type": "stream",
          "text": [
            "+---+--------------------+--------------------+\n",
            "| id|            sentence|               words|\n",
            "+---+--------------------+--------------------+\n",
            "|  0|Hi I heard about ...|[hi, i, heard, ab...|\n",
            "|  1|I wish Java could...|[i, wish, java, c...|\n",
            "|  2|Logistic,regressi...|[logistic,regress...|\n",
            "+---+--------------------+--------------------+\n",
            "\n"
          ],
          "name": "stdout"
        }
      ]
    },
    {
      "cell_type": "code",
      "metadata": {
        "id": "7QMUfK-RC3Vq",
        "colab_type": "code",
        "outputId": "0b4f0c05-496b-4042-818c-93fcc40ae4f9",
        "colab": {
          "base_uri": "https://localhost:8080/",
          "height": 165
        }
      },
      "source": [
        "tokenized.withColumn('tokens',count_tokens(col('words'))).show()"
      ],
      "execution_count": 0,
      "outputs": [
        {
          "output_type": "stream",
          "text": [
            "+---+--------------------+--------------------+------+\n",
            "| id|            sentence|               words|tokens|\n",
            "+---+--------------------+--------------------+------+\n",
            "|  0|Hi I heard about ...|[hi, i, heard, ab...|     5|\n",
            "|  1|I wish Java could...|[i, wish, java, c...|     7|\n",
            "|  2|Logistic,regressi...|[logistic,regress...|     1|\n",
            "+---+--------------------+--------------------+------+\n",
            "\n"
          ],
          "name": "stdout"
        }
      ]
    },
    {
      "cell_type": "code",
      "metadata": {
        "id": "IcBzQ9zGDBft",
        "colab_type": "code",
        "colab": {}
      },
      "source": [
        "rg_tokenized = regex_tokenizer.transform(sen_df)"
      ],
      "execution_count": 0,
      "outputs": []
    },
    {
      "cell_type": "code",
      "metadata": {
        "id": "hHsctix9DPYF",
        "colab_type": "code",
        "outputId": "909d83d9-a644-4462-b50d-a84a6452775e",
        "colab": {
          "base_uri": "https://localhost:8080/",
          "height": 165
        }
      },
      "source": [
        "rg_tokenized.withColumn('tokens',count_tokens(col('words'))).show()"
      ],
      "execution_count": 0,
      "outputs": [
        {
          "output_type": "stream",
          "text": [
            "+---+--------------------+--------------------+------+\n",
            "| id|            sentence|               words|tokens|\n",
            "+---+--------------------+--------------------+------+\n",
            "|  0|Hi I heard about ...|[hi, i, heard, ab...|     5|\n",
            "|  1|I wish Java could...|[i, wish, java, c...|     7|\n",
            "|  2|Logistic,regressi...|[logistic, regres...|     5|\n",
            "+---+--------------------+--------------------+------+\n",
            "\n"
          ],
          "name": "stdout"
        }
      ]
    },
    {
      "cell_type": "markdown",
      "metadata": {
        "id": "tfMtGbHhD0sg",
        "colab_type": "text"
      },
      "source": [
        "### Stopwords removal"
      ]
    },
    {
      "cell_type": "code",
      "metadata": {
        "id": "fgm5IGXMDSZ1",
        "colab_type": "code",
        "colab": {}
      },
      "source": [
        "from pyspark.ml.feature import StopWordsRemover"
      ],
      "execution_count": 0,
      "outputs": []
    },
    {
      "cell_type": "code",
      "metadata": {
        "id": "n0sB8zIxEBIh",
        "colab_type": "code",
        "colab": {}
      },
      "source": [
        "sent_df = spark.createDataFrame([\n",
        "    (0,['I','saw','the','green','horse']),\n",
        "    (1,['Mary','had','a','little','lamb'])\n",
        "    ],['Id','tokens'])"
      ],
      "execution_count": 0,
      "outputs": []
    },
    {
      "cell_type": "code",
      "metadata": {
        "id": "I1EGdbqOEaev",
        "colab_type": "code",
        "outputId": "fd7e24bb-72fe-42c0-8fd6-70d1f61b1034",
        "colab": {
          "base_uri": "https://localhost:8080/",
          "height": 146
        }
      },
      "source": [
        "sent_df.show()"
      ],
      "execution_count": 0,
      "outputs": [
        {
          "output_type": "stream",
          "text": [
            "+---+--------------------+\n",
            "| Id|              tokens|\n",
            "+---+--------------------+\n",
            "|  0|[I, saw, the, gre...|\n",
            "|  1|[Mary, had, a, li...|\n",
            "+---+--------------------+\n",
            "\n"
          ],
          "name": "stdout"
        }
      ]
    },
    {
      "cell_type": "code",
      "metadata": {
        "id": "sqUUW24hEft9",
        "colab_type": "code",
        "colab": {}
      },
      "source": [
        "remover = StopWordsRemover(inputCol='tokens',outputCol='filtered')"
      ],
      "execution_count": 0,
      "outputs": []
    },
    {
      "cell_type": "code",
      "metadata": {
        "id": "AXDCiVm6En7X",
        "colab_type": "code",
        "outputId": "355fd082-bb88-43b7-fdac-74bccc0e6ade",
        "colab": {
          "base_uri": "https://localhost:8080/",
          "height": 146
        }
      },
      "source": [
        "remover.transform(sent_df).show()"
      ],
      "execution_count": 0,
      "outputs": [
        {
          "output_type": "stream",
          "text": [
            "+---+--------------------+--------------------+\n",
            "| Id|              tokens|            filtered|\n",
            "+---+--------------------+--------------------+\n",
            "|  0|[I, saw, the, gre...| [saw, green, horse]|\n",
            "|  1|[Mary, had, a, li...|[Mary, little, lamb]|\n",
            "+---+--------------------+--------------------+\n",
            "\n"
          ],
          "name": "stdout"
        }
      ]
    },
    {
      "cell_type": "markdown",
      "metadata": {
        "id": "O9jx4nPTE-Iw",
        "colab_type": "text"
      },
      "source": [
        "### N-grams"
      ]
    },
    {
      "cell_type": "code",
      "metadata": {
        "id": "8E_AGEADE9YY",
        "colab_type": "code",
        "colab": {}
      },
      "source": [
        "from pyspark.ml.feature import NGram"
      ],
      "execution_count": 0,
      "outputs": []
    },
    {
      "cell_type": "code",
      "metadata": {
        "id": "1ZKDx6AvExZC",
        "colab_type": "code",
        "colab": {}
      },
      "source": [
        "words_df = spark.createDataFrame([\n",
        "    (0, ['Hi','I','heard','about','Spark']),\n",
        "    (1, ['I','wish','Java','could','use','case','classes']),\n",
        "    (2, ['Logistic','regression','models','are','neat'])],\n",
        "    ['Id','words'])"
      ],
      "execution_count": 0,
      "outputs": []
    },
    {
      "cell_type": "code",
      "metadata": {
        "id": "EKbdY9vxGOLZ",
        "colab_type": "code",
        "outputId": "a622a08b-2de8-4177-8efd-ae9b3bfa750a",
        "colab": {
          "base_uri": "https://localhost:8080/",
          "height": 165
        }
      },
      "source": [
        "words_df.show(truncate=False)"
      ],
      "execution_count": 0,
      "outputs": [
        {
          "output_type": "stream",
          "text": [
            "+---+------------------------------------------+\n",
            "|Id |words                                     |\n",
            "+---+------------------------------------------+\n",
            "|0  |[Hi, I, heard, about, Spark]              |\n",
            "|1  |[I, wish, Java, could, use, case, classes]|\n",
            "|2  |[Logistic, regression, models, are, neat] |\n",
            "+---+------------------------------------------+\n",
            "\n"
          ],
          "name": "stdout"
        }
      ]
    },
    {
      "cell_type": "code",
      "metadata": {
        "id": "GLhmTtBpGR48",
        "colab_type": "code",
        "colab": {}
      },
      "source": [
        "ngram = NGram(n=2,inputCol='words',outputCol='grams')"
      ],
      "execution_count": 0,
      "outputs": []
    },
    {
      "cell_type": "code",
      "metadata": {
        "id": "OrOLv2pPGaAq",
        "colab_type": "code",
        "outputId": "7530ed21-c46e-4ce6-ffd1-c35948b7f083",
        "colab": {
          "base_uri": "https://localhost:8080/",
          "height": 165
        }
      },
      "source": [
        "ngram.transform(words_df).select('grams').show(truncate=False)"
      ],
      "execution_count": 0,
      "outputs": [
        {
          "output_type": "stream",
          "text": [
            "+------------------------------------------------------------------+\n",
            "|grams                                                             |\n",
            "+------------------------------------------------------------------+\n",
            "|[Hi I, I heard, heard about, about Spark]                         |\n",
            "|[I wish, wish Java, Java could, could use, use case, case classes]|\n",
            "|[Logistic regression, regression models, models are, are neat]    |\n",
            "+------------------------------------------------------------------+\n",
            "\n"
          ],
          "name": "stdout"
        }
      ]
    },
    {
      "cell_type": "markdown",
      "metadata": {
        "id": "7nS805y7HEZs",
        "colab_type": "text"
      },
      "source": [
        "### TF-IDF Vectorizer"
      ]
    },
    {
      "cell_type": "code",
      "metadata": {
        "id": "N2hU26bPGjSt",
        "colab_type": "code",
        "colab": {}
      },
      "source": [
        "from pyspark.ml.feature import HashingTF, IDF, Tokenizer"
      ],
      "execution_count": 0,
      "outputs": []
    },
    {
      "cell_type": "code",
      "metadata": {
        "id": "CyvDF3qDHu2M",
        "colab_type": "code",
        "colab": {}
      },
      "source": [
        "sent_df = spark.createDataFrame([\n",
        "    (0, 'Hi I heard about Spark'),\n",
        "    (1, 'I wish Java could use case classes'),\n",
        "    (2, 'Logistic Regression models are neat')],\n",
        "    ['label','sentence'])"
      ],
      "execution_count": 0,
      "outputs": []
    },
    {
      "cell_type": "code",
      "metadata": {
        "id": "VLF5xyJg5EmA",
        "colab_type": "code",
        "colab": {
          "base_uri": "https://localhost:8080/",
          "height": 165
        },
        "outputId": "096ef48f-2352-4d8e-9916-d2ae8177225e"
      },
      "source": [
        "sent_df.show()"
      ],
      "execution_count": 9,
      "outputs": [
        {
          "output_type": "stream",
          "text": [
            "+-----+--------------------+\n",
            "|label|            sentence|\n",
            "+-----+--------------------+\n",
            "|    0|Hi I heard about ...|\n",
            "|    1|I wish Java could...|\n",
            "|    2|Logistic Regressi...|\n",
            "+-----+--------------------+\n",
            "\n"
          ],
          "name": "stdout"
        }
      ]
    },
    {
      "cell_type": "code",
      "metadata": {
        "id": "LrLpxEB85Idx",
        "colab_type": "code",
        "colab": {}
      },
      "source": [
        "tokenizer = Tokenizer(inputCol='sentence',outputCol='words')"
      ],
      "execution_count": 0,
      "outputs": []
    },
    {
      "cell_type": "code",
      "metadata": {
        "id": "wdHl3_5q5UNG",
        "colab_type": "code",
        "colab": {}
      },
      "source": [
        "words_data = tokenizer.transform(sent_df)"
      ],
      "execution_count": 0,
      "outputs": []
    },
    {
      "cell_type": "code",
      "metadata": {
        "id": "vo68DUJO5Ztb",
        "colab_type": "code",
        "colab": {
          "base_uri": "https://localhost:8080/",
          "height": 165
        },
        "outputId": "e7a806b3-1c4f-4d87-fb0c-b3c8d3f17c0b"
      },
      "source": [
        "words_data.show()"
      ],
      "execution_count": 12,
      "outputs": [
        {
          "output_type": "stream",
          "text": [
            "+-----+--------------------+--------------------+\n",
            "|label|            sentence|               words|\n",
            "+-----+--------------------+--------------------+\n",
            "|    0|Hi I heard about ...|[hi, i, heard, ab...|\n",
            "|    1|I wish Java could...|[i, wish, java, c...|\n",
            "|    2|Logistic Regressi...|[logistic, regres...|\n",
            "+-----+--------------------+--------------------+\n",
            "\n"
          ],
          "name": "stdout"
        }
      ]
    },
    {
      "cell_type": "code",
      "metadata": {
        "id": "Izb_Lta85cHE",
        "colab_type": "code",
        "colab": {}
      },
      "source": [
        "hashing_tf = HashingTF(inputCol='words',outputCol='rawFeatures')"
      ],
      "execution_count": 0,
      "outputs": []
    },
    {
      "cell_type": "code",
      "metadata": {
        "id": "lNH3RvYS5ouq",
        "colab_type": "code",
        "colab": {}
      },
      "source": [
        "featurized_data = hashing_tf.transform(words_data)"
      ],
      "execution_count": 0,
      "outputs": []
    },
    {
      "cell_type": "code",
      "metadata": {
        "id": "gGLeX-7-5uwF",
        "colab_type": "code",
        "colab": {}
      },
      "source": [
        "idf = IDF(inputCol='rawFeatures',outputCol='features')"
      ],
      "execution_count": 0,
      "outputs": []
    },
    {
      "cell_type": "code",
      "metadata": {
        "id": "w79o8aOw5_mt",
        "colab_type": "code",
        "colab": {}
      },
      "source": [
        "idf_model = idf.fit(featurized_data)"
      ],
      "execution_count": 0,
      "outputs": []
    },
    {
      "cell_type": "code",
      "metadata": {
        "id": "Gyh1ui976FeR",
        "colab_type": "code",
        "colab": {}
      },
      "source": [
        "rescaled_data = idf_model.transform(featurized_data)"
      ],
      "execution_count": 0,
      "outputs": []
    },
    {
      "cell_type": "code",
      "metadata": {
        "id": "P4cCj8yz6MpU",
        "colab_type": "code",
        "colab": {
          "base_uri": "https://localhost:8080/",
          "height": 185
        },
        "outputId": "555cdc0e-3052-46d5-cdbf-dbdfeb6e6105"
      },
      "source": [
        "rescaled_data.select('label','features').show(truncate=False)"
      ],
      "execution_count": 20,
      "outputs": [
        {
          "output_type": "stream",
          "text": [
            "+-----+------------------------------------------------------------------------------------------------------------------------------------------------------------------------------------------------+\n",
            "|label|features                                                                                                                                                                                        |\n",
            "+-----+------------------------------------------------------------------------------------------------------------------------------------------------------------------------------------------------+\n",
            "|0    |(262144,[24417,49304,73197,91137,234657],[0.28768207245178085,0.6931471805599453,0.6931471805599453,0.6931471805599453,0.6931471805599453])                                                     |\n",
            "|1    |(262144,[20719,24417,55551,116873,147765,162369,192310],[0.6931471805599453,0.28768207245178085,0.6931471805599453,0.6931471805599453,0.6931471805599453,0.6931471805599453,0.6931471805599453])|\n",
            "|2    |(262144,[13671,91006,132713,167122,190884],[0.6931471805599453,0.6931471805599453,0.6931471805599453,0.6931471805599453,0.6931471805599453])                                                    |\n",
            "+-----+------------------------------------------------------------------------------------------------------------------------------------------------------------------------------------------------+\n",
            "\n"
          ],
          "name": "stdout"
        }
      ]
    },
    {
      "cell_type": "markdown",
      "metadata": {
        "id": "vm6ut8zK61r4",
        "colab_type": "text"
      },
      "source": [
        "### Count Vectorizer"
      ]
    },
    {
      "cell_type": "code",
      "metadata": {
        "id": "Ray586Tr6Tsc",
        "colab_type": "code",
        "colab": {}
      },
      "source": [
        "from pyspark.ml.feature import CountVectorizer"
      ],
      "execution_count": 0,
      "outputs": []
    },
    {
      "cell_type": "code",
      "metadata": {
        "id": "ewEhRTdS7Ag0",
        "colab_type": "code",
        "colab": {}
      },
      "source": [
        "df = spark.createDataFrame([\n",
        "    (0, 'a b c'.split(' ')),\n",
        "    (1, 'a b b c a'.split(' '))],\n",
        "    ['id','words'])"
      ],
      "execution_count": 0,
      "outputs": []
    },
    {
      "cell_type": "code",
      "metadata": {
        "id": "AiD7Oc8y7ObX",
        "colab_type": "code",
        "colab": {
          "base_uri": "https://localhost:8080/",
          "height": 146
        },
        "outputId": "1d5e3d86-b2f6-4288-fdff-412f3fdec19d"
      },
      "source": [
        "df.show()"
      ],
      "execution_count": 23,
      "outputs": [
        {
          "output_type": "stream",
          "text": [
            "+---+---------------+\n",
            "| id|          words|\n",
            "+---+---------------+\n",
            "|  0|      [a, b, c]|\n",
            "|  1|[a, b, b, c, a]|\n",
            "+---+---------------+\n",
            "\n"
          ],
          "name": "stdout"
        }
      ]
    },
    {
      "cell_type": "code",
      "metadata": {
        "id": "seycfREG7Rtk",
        "colab_type": "code",
        "colab": {}
      },
      "source": [
        "# a word appears in atleast 2 docs to appear in vocab\n",
        "# minDF=2.0\n",
        "cv = CountVectorizer(inputCol='words',outputCol='features',vocabSize=3,minDF=2.0)"
      ],
      "execution_count": 0,
      "outputs": []
    },
    {
      "cell_type": "code",
      "metadata": {
        "id": "T_xIxyhA73zB",
        "colab_type": "code",
        "colab": {}
      },
      "source": [
        "model = cv.fit(df)"
      ],
      "execution_count": 0,
      "outputs": []
    },
    {
      "cell_type": "code",
      "metadata": {
        "id": "6U9f3Np578Cb",
        "colab_type": "code",
        "colab": {}
      },
      "source": [
        "result = model.transform(df)"
      ],
      "execution_count": 0,
      "outputs": []
    },
    {
      "cell_type": "code",
      "metadata": {
        "id": "VfbpP3hD7-1R",
        "colab_type": "code",
        "colab": {
          "base_uri": "https://localhost:8080/",
          "height": 146
        },
        "outputId": "ecd757aa-2770-488e-c2d8-833c8acc42ff"
      },
      "source": [
        "result.show(truncate=False)"
      ],
      "execution_count": 27,
      "outputs": [
        {
          "output_type": "stream",
          "text": [
            "+---+---------------+-------------------------+\n",
            "|id |words          |features                 |\n",
            "+---+---------------+-------------------------+\n",
            "|0  |[a, b, c]      |(3,[0,1,2],[1.0,1.0,1.0])|\n",
            "|1  |[a, b, b, c, a]|(3,[0,1,2],[2.0,2.0,1.0])|\n",
            "+---+---------------+-------------------------+\n",
            "\n"
          ],
          "name": "stdout"
        }
      ]
    },
    {
      "cell_type": "code",
      "metadata": {
        "id": "YSWHvllE8Bjj",
        "colab_type": "code",
        "colab": {}
      },
      "source": [
        ""
      ],
      "execution_count": 0,
      "outputs": []
    }
  ]
}