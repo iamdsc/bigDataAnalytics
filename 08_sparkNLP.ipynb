{
  "nbformat": 4,
  "nbformat_minor": 0,
  "metadata": {
    "colab": {
      "name": "08_sparkNLP.ipynb",
      "version": "0.3.2",
      "provenance": []
    },
    "kernelspec": {
      "name": "python3",
      "display_name": "Python 3"
    },
    "accelerator": "GPU"
  },
  "cells": [
    {
      "cell_type": "code",
      "metadata": {
        "id": "uEsbZmdY-rvz",
        "colab_type": "code",
        "colab": {}
      },
      "source": [
        "!apt-get install openjdk-8-jdk-headless -qq > /dev/null\n",
        "!wget -q http://www-eu.apache.org/dist/spark/spark-2.3.3/spark-2.3.3-bin-hadoop2.7.tgz\n",
        "!tar xf spark-2.3.3-bin-hadoop2.7.tgz\n",
        "!pip install -q findspark"
      ],
      "execution_count": 0,
      "outputs": []
    },
    {
      "cell_type": "code",
      "metadata": {
        "id": "nZXsOwN1_1c1",
        "colab_type": "code",
        "colab": {}
      },
      "source": [
        "import os\n",
        "os.environ[\"JAVA_HOME\"] = \"/usr/lib/jvm/java-8-openjdk-amd64\"\n",
        "os.environ[\"SPARK_HOME\"] = \"/content/spark-2.3.3-bin-hadoop2.7\""
      ],
      "execution_count": 0,
      "outputs": []
    },
    {
      "cell_type": "code",
      "metadata": {
        "id": "7p8Zezj__5uy",
        "colab_type": "code",
        "colab": {}
      },
      "source": [
        "import findspark\n",
        "findspark.init()\n",
        "from pyspark.sql import SparkSession"
      ],
      "execution_count": 0,
      "outputs": []
    },
    {
      "cell_type": "code",
      "metadata": {
        "id": "M8PxtfVQ_7SW",
        "colab_type": "code",
        "colab": {}
      },
      "source": [
        "spark = SparkSession.builder.appName('nlp').getOrCreate()"
      ],
      "execution_count": 0,
      "outputs": []
    },
    {
      "cell_type": "markdown",
      "metadata": {
        "id": "PUuq3pIuDc-T",
        "colab_type": "text"
      },
      "source": [
        "### Tokenization"
      ]
    },
    {
      "cell_type": "code",
      "metadata": {
        "id": "8_pbYj4YAJjq",
        "colab_type": "code",
        "colab": {}
      },
      "source": [
        "from pyspark.ml.feature import Tokenizer, RegexTokenizer\n",
        "from pyspark.sql.functions import col, udf\n",
        "from pyspark.sql.types import IntegerType"
      ],
      "execution_count": 0,
      "outputs": []
    },
    {
      "cell_type": "code",
      "metadata": {
        "id": "8mPZuZRPAkuD",
        "colab_type": "code",
        "colab": {}
      },
      "source": [
        "sen_df = spark.createDataFrame([\n",
        "    (0, 'Hi I heard about Spark'),\n",
        "    (1, 'I wish Java could use case classes'),\n",
        "    (2, 'Logistic,regression,models,are,neat')],\n",
        "    ['id','sentence'])"
      ],
      "execution_count": 0,
      "outputs": []
    },
    {
      "cell_type": "code",
      "metadata": {
        "id": "P0FSl0zEAtG9",
        "colab_type": "code",
        "outputId": "eafecf4c-13e0-4352-a67e-09cc1f3fe430",
        "colab": {
          "base_uri": "https://localhost:8080/",
          "height": 165
        }
      },
      "source": [
        "sen_df.show()"
      ],
      "execution_count": 0,
      "outputs": [
        {
          "output_type": "stream",
          "text": [
            "+---+--------------------+\n",
            "| id|            sentence|\n",
            "+---+--------------------+\n",
            "|  0|Hi I heard about ...|\n",
            "|  1|I wish Java could...|\n",
            "|  2|Logistic,regressi...|\n",
            "+---+--------------------+\n",
            "\n"
          ],
          "name": "stdout"
        }
      ]
    },
    {
      "cell_type": "code",
      "metadata": {
        "id": "Ul2SEVRqAx68",
        "colab_type": "code",
        "colab": {}
      },
      "source": [
        "tokenizer = Tokenizer(inputCol='sentence',outputCol='words')\n",
        "regex_tokenizer = RegexTokenizer(inputCol='sentence',outputCol='words',\n",
        "                                pattern='\\\\W')"
      ],
      "execution_count": 0,
      "outputs": []
    },
    {
      "cell_type": "code",
      "metadata": {
        "id": "qcMA9rBPClDV",
        "colab_type": "code",
        "colab": {}
      },
      "source": [
        "count_tokens = udf(lambda words:len(words),IntegerType())"
      ],
      "execution_count": 0,
      "outputs": []
    },
    {
      "cell_type": "code",
      "metadata": {
        "id": "oc6wv2DeCtLe",
        "colab_type": "code",
        "colab": {}
      },
      "source": [
        "tokenized = tokenizer.transform(sen_df)"
      ],
      "execution_count": 0,
      "outputs": []
    },
    {
      "cell_type": "code",
      "metadata": {
        "id": "pbEJqt92CyXt",
        "colab_type": "code",
        "outputId": "084f6baa-bd14-4b89-f0c2-51a2586adcfa",
        "colab": {
          "base_uri": "https://localhost:8080/",
          "height": 165
        }
      },
      "source": [
        "tokenized.show()"
      ],
      "execution_count": 0,
      "outputs": [
        {
          "output_type": "stream",
          "text": [
            "+---+--------------------+--------------------+\n",
            "| id|            sentence|               words|\n",
            "+---+--------------------+--------------------+\n",
            "|  0|Hi I heard about ...|[hi, i, heard, ab...|\n",
            "|  1|I wish Java could...|[i, wish, java, c...|\n",
            "|  2|Logistic,regressi...|[logistic,regress...|\n",
            "+---+--------------------+--------------------+\n",
            "\n"
          ],
          "name": "stdout"
        }
      ]
    },
    {
      "cell_type": "code",
      "metadata": {
        "id": "7QMUfK-RC3Vq",
        "colab_type": "code",
        "outputId": "0b4f0c05-496b-4042-818c-93fcc40ae4f9",
        "colab": {
          "base_uri": "https://localhost:8080/",
          "height": 165
        }
      },
      "source": [
        "tokenized.withColumn('tokens',count_tokens(col('words'))).show()"
      ],
      "execution_count": 0,
      "outputs": [
        {
          "output_type": "stream",
          "text": [
            "+---+--------------------+--------------------+------+\n",
            "| id|            sentence|               words|tokens|\n",
            "+---+--------------------+--------------------+------+\n",
            "|  0|Hi I heard about ...|[hi, i, heard, ab...|     5|\n",
            "|  1|I wish Java could...|[i, wish, java, c...|     7|\n",
            "|  2|Logistic,regressi...|[logistic,regress...|     1|\n",
            "+---+--------------------+--------------------+------+\n",
            "\n"
          ],
          "name": "stdout"
        }
      ]
    },
    {
      "cell_type": "code",
      "metadata": {
        "id": "IcBzQ9zGDBft",
        "colab_type": "code",
        "colab": {}
      },
      "source": [
        "rg_tokenized = regex_tokenizer.transform(sen_df)"
      ],
      "execution_count": 0,
      "outputs": []
    },
    {
      "cell_type": "code",
      "metadata": {
        "id": "hHsctix9DPYF",
        "colab_type": "code",
        "outputId": "909d83d9-a644-4462-b50d-a84a6452775e",
        "colab": {
          "base_uri": "https://localhost:8080/",
          "height": 165
        }
      },
      "source": [
        "rg_tokenized.withColumn('tokens',count_tokens(col('words'))).show()"
      ],
      "execution_count": 0,
      "outputs": [
        {
          "output_type": "stream",
          "text": [
            "+---+--------------------+--------------------+------+\n",
            "| id|            sentence|               words|tokens|\n",
            "+---+--------------------+--------------------+------+\n",
            "|  0|Hi I heard about ...|[hi, i, heard, ab...|     5|\n",
            "|  1|I wish Java could...|[i, wish, java, c...|     7|\n",
            "|  2|Logistic,regressi...|[logistic, regres...|     5|\n",
            "+---+--------------------+--------------------+------+\n",
            "\n"
          ],
          "name": "stdout"
        }
      ]
    },
    {
      "cell_type": "markdown",
      "metadata": {
        "id": "tfMtGbHhD0sg",
        "colab_type": "text"
      },
      "source": [
        "### Stopwords removal"
      ]
    },
    {
      "cell_type": "code",
      "metadata": {
        "id": "fgm5IGXMDSZ1",
        "colab_type": "code",
        "colab": {}
      },
      "source": [
        "from pyspark.ml.feature import StopWordsRemover"
      ],
      "execution_count": 0,
      "outputs": []
    },
    {
      "cell_type": "code",
      "metadata": {
        "id": "n0sB8zIxEBIh",
        "colab_type": "code",
        "colab": {}
      },
      "source": [
        "sent_df = spark.createDataFrame([\n",
        "    (0,['I','saw','the','green','horse']),\n",
        "    (1,['Mary','had','a','little','lamb'])\n",
        "    ],['Id','tokens'])"
      ],
      "execution_count": 0,
      "outputs": []
    },
    {
      "cell_type": "code",
      "metadata": {
        "id": "I1EGdbqOEaev",
        "colab_type": "code",
        "outputId": "fd7e24bb-72fe-42c0-8fd6-70d1f61b1034",
        "colab": {
          "base_uri": "https://localhost:8080/",
          "height": 146
        }
      },
      "source": [
        "sent_df.show()"
      ],
      "execution_count": 0,
      "outputs": [
        {
          "output_type": "stream",
          "text": [
            "+---+--------------------+\n",
            "| Id|              tokens|\n",
            "+---+--------------------+\n",
            "|  0|[I, saw, the, gre...|\n",
            "|  1|[Mary, had, a, li...|\n",
            "+---+--------------------+\n",
            "\n"
          ],
          "name": "stdout"
        }
      ]
    },
    {
      "cell_type": "code",
      "metadata": {
        "id": "sqUUW24hEft9",
        "colab_type": "code",
        "colab": {}
      },
      "source": [
        "remover = StopWordsRemover(inputCol='tokens',outputCol='filtered')"
      ],
      "execution_count": 0,
      "outputs": []
    },
    {
      "cell_type": "code",
      "metadata": {
        "id": "AXDCiVm6En7X",
        "colab_type": "code",
        "outputId": "355fd082-bb88-43b7-fdac-74bccc0e6ade",
        "colab": {
          "base_uri": "https://localhost:8080/",
          "height": 146
        }
      },
      "source": [
        "remover.transform(sent_df).show()"
      ],
      "execution_count": 0,
      "outputs": [
        {
          "output_type": "stream",
          "text": [
            "+---+--------------------+--------------------+\n",
            "| Id|              tokens|            filtered|\n",
            "+---+--------------------+--------------------+\n",
            "|  0|[I, saw, the, gre...| [saw, green, horse]|\n",
            "|  1|[Mary, had, a, li...|[Mary, little, lamb]|\n",
            "+---+--------------------+--------------------+\n",
            "\n"
          ],
          "name": "stdout"
        }
      ]
    },
    {
      "cell_type": "markdown",
      "metadata": {
        "id": "O9jx4nPTE-Iw",
        "colab_type": "text"
      },
      "source": [
        "### N-grams"
      ]
    },
    {
      "cell_type": "code",
      "metadata": {
        "id": "8E_AGEADE9YY",
        "colab_type": "code",
        "colab": {}
      },
      "source": [
        "from pyspark.ml.feature import NGram"
      ],
      "execution_count": 0,
      "outputs": []
    },
    {
      "cell_type": "code",
      "metadata": {
        "id": "1ZKDx6AvExZC",
        "colab_type": "code",
        "colab": {}
      },
      "source": [
        "words_df = spark.createDataFrame([\n",
        "    (0, ['Hi','I','heard','about','Spark']),\n",
        "    (1, ['I','wish','Java','could','use','case','classes']),\n",
        "    (2, ['Logistic','regression','models','are','neat'])],\n",
        "    ['Id','words'])"
      ],
      "execution_count": 0,
      "outputs": []
    },
    {
      "cell_type": "code",
      "metadata": {
        "id": "EKbdY9vxGOLZ",
        "colab_type": "code",
        "outputId": "a622a08b-2de8-4177-8efd-ae9b3bfa750a",
        "colab": {
          "base_uri": "https://localhost:8080/",
          "height": 165
        }
      },
      "source": [
        "words_df.show(truncate=False)"
      ],
      "execution_count": 0,
      "outputs": [
        {
          "output_type": "stream",
          "text": [
            "+---+------------------------------------------+\n",
            "|Id |words                                     |\n",
            "+---+------------------------------------------+\n",
            "|0  |[Hi, I, heard, about, Spark]              |\n",
            "|1  |[I, wish, Java, could, use, case, classes]|\n",
            "|2  |[Logistic, regression, models, are, neat] |\n",
            "+---+------------------------------------------+\n",
            "\n"
          ],
          "name": "stdout"
        }
      ]
    },
    {
      "cell_type": "code",
      "metadata": {
        "id": "GLhmTtBpGR48",
        "colab_type": "code",
        "colab": {}
      },
      "source": [
        "ngram = NGram(n=2,inputCol='words',outputCol='grams')"
      ],
      "execution_count": 0,
      "outputs": []
    },
    {
      "cell_type": "code",
      "metadata": {
        "id": "OrOLv2pPGaAq",
        "colab_type": "code",
        "outputId": "7530ed21-c46e-4ce6-ffd1-c35948b7f083",
        "colab": {
          "base_uri": "https://localhost:8080/",
          "height": 165
        }
      },
      "source": [
        "ngram.transform(words_df).select('grams').show(truncate=False)"
      ],
      "execution_count": 0,
      "outputs": [
        {
          "output_type": "stream",
          "text": [
            "+------------------------------------------------------------------+\n",
            "|grams                                                             |\n",
            "+------------------------------------------------------------------+\n",
            "|[Hi I, I heard, heard about, about Spark]                         |\n",
            "|[I wish, wish Java, Java could, could use, use case, case classes]|\n",
            "|[Logistic regression, regression models, models are, are neat]    |\n",
            "+------------------------------------------------------------------+\n",
            "\n"
          ],
          "name": "stdout"
        }
      ]
    },
    {
      "cell_type": "markdown",
      "metadata": {
        "id": "7nS805y7HEZs",
        "colab_type": "text"
      },
      "source": [
        "### TF-IDF Vectorizer"
      ]
    },
    {
      "cell_type": "code",
      "metadata": {
        "id": "N2hU26bPGjSt",
        "colab_type": "code",
        "colab": {}
      },
      "source": [
        "from pyspark.ml.feature import HashingTF, IDF, Tokenizer"
      ],
      "execution_count": 0,
      "outputs": []
    },
    {
      "cell_type": "code",
      "metadata": {
        "id": "CyvDF3qDHu2M",
        "colab_type": "code",
        "colab": {}
      },
      "source": [
        "sent_df = spark.createDataFrame([\n",
        "    (0, 'Hi I heard about Spark'),\n",
        "    (1, 'I wish Java could use case classes'),\n",
        "    (2, 'Logistic Regression models are neat')],\n",
        "    ['label','sentence'])"
      ],
      "execution_count": 0,
      "outputs": []
    },
    {
      "cell_type": "code",
      "metadata": {
        "id": "VLF5xyJg5EmA",
        "colab_type": "code",
        "colab": {
          "base_uri": "https://localhost:8080/",
          "height": 165
        },
        "outputId": "096ef48f-2352-4d8e-9916-d2ae8177225e"
      },
      "source": [
        "sent_df.show()"
      ],
      "execution_count": 9,
      "outputs": [
        {
          "output_type": "stream",
          "text": [
            "+-----+--------------------+\n",
            "|label|            sentence|\n",
            "+-----+--------------------+\n",
            "|    0|Hi I heard about ...|\n",
            "|    1|I wish Java could...|\n",
            "|    2|Logistic Regressi...|\n",
            "+-----+--------------------+\n",
            "\n"
          ],
          "name": "stdout"
        }
      ]
    },
    {
      "cell_type": "code",
      "metadata": {
        "id": "LrLpxEB85Idx",
        "colab_type": "code",
        "colab": {}
      },
      "source": [
        "tokenizer = Tokenizer(inputCol='sentence',outputCol='words')"
      ],
      "execution_count": 0,
      "outputs": []
    },
    {
      "cell_type": "code",
      "metadata": {
        "id": "wdHl3_5q5UNG",
        "colab_type": "code",
        "colab": {}
      },
      "source": [
        "words_data = tokenizer.transform(sent_df)"
      ],
      "execution_count": 0,
      "outputs": []
    },
    {
      "cell_type": "code",
      "metadata": {
        "id": "vo68DUJO5Ztb",
        "colab_type": "code",
        "colab": {
          "base_uri": "https://localhost:8080/",
          "height": 165
        },
        "outputId": "e7a806b3-1c4f-4d87-fb0c-b3c8d3f17c0b"
      },
      "source": [
        "words_data.show()"
      ],
      "execution_count": 12,
      "outputs": [
        {
          "output_type": "stream",
          "text": [
            "+-----+--------------------+--------------------+\n",
            "|label|            sentence|               words|\n",
            "+-----+--------------------+--------------------+\n",
            "|    0|Hi I heard about ...|[hi, i, heard, ab...|\n",
            "|    1|I wish Java could...|[i, wish, java, c...|\n",
            "|    2|Logistic Regressi...|[logistic, regres...|\n",
            "+-----+--------------------+--------------------+\n",
            "\n"
          ],
          "name": "stdout"
        }
      ]
    },
    {
      "cell_type": "code",
      "metadata": {
        "id": "Izb_Lta85cHE",
        "colab_type": "code",
        "colab": {}
      },
      "source": [
        "hashing_tf = HashingTF(inputCol='words',outputCol='rawFeatures')"
      ],
      "execution_count": 0,
      "outputs": []
    },
    {
      "cell_type": "code",
      "metadata": {
        "id": "lNH3RvYS5ouq",
        "colab_type": "code",
        "colab": {}
      },
      "source": [
        "featurized_data = hashing_tf.transform(words_data)"
      ],
      "execution_count": 0,
      "outputs": []
    },
    {
      "cell_type": "code",
      "metadata": {
        "id": "gGLeX-7-5uwF",
        "colab_type": "code",
        "colab": {}
      },
      "source": [
        "idf = IDF(inputCol='rawFeatures',outputCol='features')"
      ],
      "execution_count": 0,
      "outputs": []
    },
    {
      "cell_type": "code",
      "metadata": {
        "id": "w79o8aOw5_mt",
        "colab_type": "code",
        "colab": {}
      },
      "source": [
        "idf_model = idf.fit(featurized_data)"
      ],
      "execution_count": 0,
      "outputs": []
    },
    {
      "cell_type": "code",
      "metadata": {
        "id": "Gyh1ui976FeR",
        "colab_type": "code",
        "colab": {}
      },
      "source": [
        "rescaled_data = idf_model.transform(featurized_data)"
      ],
      "execution_count": 0,
      "outputs": []
    },
    {
      "cell_type": "code",
      "metadata": {
        "id": "P4cCj8yz6MpU",
        "colab_type": "code",
        "colab": {
          "base_uri": "https://localhost:8080/",
          "height": 185
        },
        "outputId": "555cdc0e-3052-46d5-cdbf-dbdfeb6e6105"
      },
      "source": [
        "rescaled_data.select('label','features').show(truncate=False)"
      ],
      "execution_count": 20,
      "outputs": [
        {
          "output_type": "stream",
          "text": [
            "+-----+------------------------------------------------------------------------------------------------------------------------------------------------------------------------------------------------+\n",
            "|label|features                                                                                                                                                                                        |\n",
            "+-----+------------------------------------------------------------------------------------------------------------------------------------------------------------------------------------------------+\n",
            "|0    |(262144,[24417,49304,73197,91137,234657],[0.28768207245178085,0.6931471805599453,0.6931471805599453,0.6931471805599453,0.6931471805599453])                                                     |\n",
            "|1    |(262144,[20719,24417,55551,116873,147765,162369,192310],[0.6931471805599453,0.28768207245178085,0.6931471805599453,0.6931471805599453,0.6931471805599453,0.6931471805599453,0.6931471805599453])|\n",
            "|2    |(262144,[13671,91006,132713,167122,190884],[0.6931471805599453,0.6931471805599453,0.6931471805599453,0.6931471805599453,0.6931471805599453])                                                    |\n",
            "+-----+------------------------------------------------------------------------------------------------------------------------------------------------------------------------------------------------+\n",
            "\n"
          ],
          "name": "stdout"
        }
      ]
    },
    {
      "cell_type": "markdown",
      "metadata": {
        "id": "vm6ut8zK61r4",
        "colab_type": "text"
      },
      "source": [
        "### Count Vectorizer"
      ]
    },
    {
      "cell_type": "code",
      "metadata": {
        "id": "Ray586Tr6Tsc",
        "colab_type": "code",
        "colab": {}
      },
      "source": [
        "from pyspark.ml.feature import CountVectorizer"
      ],
      "execution_count": 0,
      "outputs": []
    },
    {
      "cell_type": "code",
      "metadata": {
        "id": "ewEhRTdS7Ag0",
        "colab_type": "code",
        "colab": {}
      },
      "source": [
        "df = spark.createDataFrame([\n",
        "    (0, 'a b c'.split(' ')),\n",
        "    (1, 'a b b c a'.split(' '))],\n",
        "    ['id','words'])"
      ],
      "execution_count": 0,
      "outputs": []
    },
    {
      "cell_type": "code",
      "metadata": {
        "id": "AiD7Oc8y7ObX",
        "colab_type": "code",
        "colab": {
          "base_uri": "https://localhost:8080/",
          "height": 146
        },
        "outputId": "1d5e3d86-b2f6-4288-fdff-412f3fdec19d"
      },
      "source": [
        "df.show()"
      ],
      "execution_count": 23,
      "outputs": [
        {
          "output_type": "stream",
          "text": [
            "+---+---------------+\n",
            "| id|          words|\n",
            "+---+---------------+\n",
            "|  0|      [a, b, c]|\n",
            "|  1|[a, b, b, c, a]|\n",
            "+---+---------------+\n",
            "\n"
          ],
          "name": "stdout"
        }
      ]
    },
    {
      "cell_type": "code",
      "metadata": {
        "id": "seycfREG7Rtk",
        "colab_type": "code",
        "colab": {}
      },
      "source": [
        "# a word appears in atleast 2 docs to appear in vocab\n",
        "# minDF=2.0\n",
        "cv = CountVectorizer(inputCol='words',outputCol='features',vocabSize=3,minDF=2.0)"
      ],
      "execution_count": 0,
      "outputs": []
    },
    {
      "cell_type": "code",
      "metadata": {
        "id": "T_xIxyhA73zB",
        "colab_type": "code",
        "colab": {}
      },
      "source": [
        "model = cv.fit(df)"
      ],
      "execution_count": 0,
      "outputs": []
    },
    {
      "cell_type": "code",
      "metadata": {
        "id": "6U9f3Np578Cb",
        "colab_type": "code",
        "colab": {}
      },
      "source": [
        "result = model.transform(df)"
      ],
      "execution_count": 0,
      "outputs": []
    },
    {
      "cell_type": "code",
      "metadata": {
        "id": "VfbpP3hD7-1R",
        "colab_type": "code",
        "colab": {
          "base_uri": "https://localhost:8080/",
          "height": 146
        },
        "outputId": "ecd757aa-2770-488e-c2d8-833c8acc42ff"
      },
      "source": [
        "result.show(truncate=False)"
      ],
      "execution_count": 27,
      "outputs": [
        {
          "output_type": "stream",
          "text": [
            "+---+---------------+-------------------------+\n",
            "|id |words          |features                 |\n",
            "+---+---------------+-------------------------+\n",
            "|0  |[a, b, c]      |(3,[0,1,2],[1.0,1.0,1.0])|\n",
            "|1  |[a, b, b, c, a]|(3,[0,1,2],[2.0,2.0,1.0])|\n",
            "+---+---------------+-------------------------+\n",
            "\n"
          ],
          "name": "stdout"
        }
      ]
    },
    {
      "cell_type": "markdown",
      "metadata": {
        "id": "erIrax-yHNHt",
        "colab_type": "text"
      },
      "source": [
        "### Code Along - Spam Detection Filter"
      ]
    },
    {
      "cell_type": "code",
      "metadata": {
        "id": "YSWHvllE8Bjj",
        "colab_type": "code",
        "colab": {}
      },
      "source": [
        "data = spark.read.csv('SMSSpamCollection',inferSchema=True,sep='\\t')"
      ],
      "execution_count": 0,
      "outputs": []
    },
    {
      "cell_type": "code",
      "metadata": {
        "id": "wYZj11CnIatp",
        "colab_type": "code",
        "colab": {}
      },
      "source": [
        "data = data.withColumnRenamed('_c0','class').withColumnRenamed('_c1','text')"
      ],
      "execution_count": 0,
      "outputs": []
    },
    {
      "cell_type": "code",
      "metadata": {
        "id": "0v6KbIbVIdql",
        "colab_type": "code",
        "colab": {
          "base_uri": "https://localhost:8080/",
          "height": 498
        },
        "outputId": "64af4d68-d997-405f-f89b-27bf971fc864"
      },
      "source": [
        "data.show()"
      ],
      "execution_count": 31,
      "outputs": [
        {
          "output_type": "stream",
          "text": [
            "+-----+--------------------+\n",
            "|class|                text|\n",
            "+-----+--------------------+\n",
            "|  ham|Go until jurong p...|\n",
            "|  ham|Ok lar... Joking ...|\n",
            "| spam|Free entry in 2 a...|\n",
            "|  ham|U dun say so earl...|\n",
            "|  ham|Nah I don't think...|\n",
            "| spam|FreeMsg Hey there...|\n",
            "|  ham|Even my brother i...|\n",
            "|  ham|As per your reque...|\n",
            "| spam|WINNER!! As a val...|\n",
            "| spam|Had your mobile 1...|\n",
            "|  ham|I'm gonna be home...|\n",
            "| spam|SIX chances to wi...|\n",
            "| spam|URGENT! You have ...|\n",
            "|  ham|I've been searchi...|\n",
            "|  ham|I HAVE A DATE ON ...|\n",
            "| spam|XXXMobileMovieClu...|\n",
            "|  ham|Oh k...i'm watchi...|\n",
            "|  ham|Eh u remember how...|\n",
            "|  ham|Fine if thats th...|\n",
            "| spam|England v Macedon...|\n",
            "+-----+--------------------+\n",
            "only showing top 20 rows\n",
            "\n"
          ],
          "name": "stdout"
        }
      ]
    },
    {
      "cell_type": "code",
      "metadata": {
        "id": "RHIXZILTIugl",
        "colab_type": "code",
        "colab": {}
      },
      "source": [
        "from pyspark.sql.functions import length"
      ],
      "execution_count": 0,
      "outputs": []
    },
    {
      "cell_type": "code",
      "metadata": {
        "id": "JPo3wAFDI3WY",
        "colab_type": "code",
        "colab": {}
      },
      "source": [
        "data = data.withColumn('length',length(data['text']))"
      ],
      "execution_count": 0,
      "outputs": []
    },
    {
      "cell_type": "code",
      "metadata": {
        "id": "1RhTcCJbI8Ov",
        "colab_type": "code",
        "colab": {
          "base_uri": "https://localhost:8080/",
          "height": 498
        },
        "outputId": "c53a7f54-27f8-4447-9472-128c2c909a3e"
      },
      "source": [
        "data.show()"
      ],
      "execution_count": 34,
      "outputs": [
        {
          "output_type": "stream",
          "text": [
            "+-----+--------------------+------+\n",
            "|class|                text|length|\n",
            "+-----+--------------------+------+\n",
            "|  ham|Go until jurong p...|   111|\n",
            "|  ham|Ok lar... Joking ...|    29|\n",
            "| spam|Free entry in 2 a...|   155|\n",
            "|  ham|U dun say so earl...|    49|\n",
            "|  ham|Nah I don't think...|    61|\n",
            "| spam|FreeMsg Hey there...|   147|\n",
            "|  ham|Even my brother i...|    77|\n",
            "|  ham|As per your reque...|   160|\n",
            "| spam|WINNER!! As a val...|   157|\n",
            "| spam|Had your mobile 1...|   154|\n",
            "|  ham|I'm gonna be home...|   109|\n",
            "| spam|SIX chances to wi...|   136|\n",
            "| spam|URGENT! You have ...|   155|\n",
            "|  ham|I've been searchi...|   196|\n",
            "|  ham|I HAVE A DATE ON ...|    35|\n",
            "| spam|XXXMobileMovieClu...|   149|\n",
            "|  ham|Oh k...i'm watchi...|    26|\n",
            "|  ham|Eh u remember how...|    81|\n",
            "|  ham|Fine if thats th...|    56|\n",
            "| spam|England v Macedon...|   155|\n",
            "+-----+--------------------+------+\n",
            "only showing top 20 rows\n",
            "\n"
          ],
          "name": "stdout"
        }
      ]
    },
    {
      "cell_type": "code",
      "metadata": {
        "id": "K6TadVRxI92y",
        "colab_type": "code",
        "colab": {
          "base_uri": "https://localhost:8080/",
          "height": 146
        },
        "outputId": "2f22267b-5f39-4dcf-c1c5-b0b3ab470f02"
      },
      "source": [
        "data.groupBy('class').mean().show() # length can be useful feature"
      ],
      "execution_count": 36,
      "outputs": [
        {
          "output_type": "stream",
          "text": [
            "+-----+-----------------+\n",
            "|class|      avg(length)|\n",
            "+-----+-----------------+\n",
            "|  ham|71.45431945307645|\n",
            "| spam|138.6706827309237|\n",
            "+-----+-----------------+\n",
            "\n"
          ],
          "name": "stdout"
        }
      ]
    },
    {
      "cell_type": "code",
      "metadata": {
        "id": "4iiPduh4JDPC",
        "colab_type": "code",
        "colab": {}
      },
      "source": [
        "from pyspark.ml.feature import Tokenizer,StopWordsRemover,CountVectorizer,IDF,StringIndexer"
      ],
      "execution_count": 0,
      "outputs": []
    },
    {
      "cell_type": "code",
      "metadata": {
        "id": "3kigCs7pJWPA",
        "colab_type": "code",
        "colab": {}
      },
      "source": [
        "tokenizer = Tokenizer(inputCol='text',outputCol='token_text')\n",
        "stop_remove = StopWordsRemover(inputCol='token_text',outputCol='stop_token')\n",
        "cv = CountVectorizer(inputCol='stop_token',outputCol='c_vec')\n",
        "idf = IDF(inputCol='c_vec',outputCol='tf_idf')\n",
        "ham_spam_to_numeric = StringIndexer(inputCol='class',outputCol='label')"
      ],
      "execution_count": 0,
      "outputs": []
    },
    {
      "cell_type": "code",
      "metadata": {
        "id": "6_cT2accKSvZ",
        "colab_type": "code",
        "colab": {}
      },
      "source": [
        "from pyspark.ml.feature import VectorAssembler"
      ],
      "execution_count": 0,
      "outputs": []
    },
    {
      "cell_type": "code",
      "metadata": {
        "id": "KGYsNek1Kdp9",
        "colab_type": "code",
        "colab": {}
      },
      "source": [
        "clean_up = VectorAssembler(inputCols=['tf_idf','length'],outputCol='features')"
      ],
      "execution_count": 0,
      "outputs": []
    },
    {
      "cell_type": "code",
      "metadata": {
        "id": "_-uFiSZYKliI",
        "colab_type": "code",
        "colab": {}
      },
      "source": [
        "from pyspark.ml.classification import NaiveBayes"
      ],
      "execution_count": 0,
      "outputs": []
    },
    {
      "cell_type": "code",
      "metadata": {
        "id": "_lZhE8BsK6GW",
        "colab_type": "code",
        "colab": {}
      },
      "source": [
        "nb = NaiveBayes()"
      ],
      "execution_count": 0,
      "outputs": []
    },
    {
      "cell_type": "code",
      "metadata": {
        "id": "qj8tvx8bK_EC",
        "colab_type": "code",
        "colab": {}
      },
      "source": [
        "from pyspark.ml import Pipeline"
      ],
      "execution_count": 0,
      "outputs": []
    },
    {
      "cell_type": "code",
      "metadata": {
        "id": "y66blSqnLUNJ",
        "colab_type": "code",
        "colab": {}
      },
      "source": [
        "data_prep_pipe = Pipeline(stages=[ham_spam_to_numeric,tokenizer,\n",
        "                                  stop_remove,cv,idf,clean_up])"
      ],
      "execution_count": 0,
      "outputs": []
    },
    {
      "cell_type": "code",
      "metadata": {
        "id": "a6ymhpOgLfD6",
        "colab_type": "code",
        "colab": {}
      },
      "source": [
        "cleaner = data_prep_pipe.fit(data)"
      ],
      "execution_count": 0,
      "outputs": []
    },
    {
      "cell_type": "code",
      "metadata": {
        "id": "GngAdsWmLiqK",
        "colab_type": "code",
        "colab": {}
      },
      "source": [
        "clean_data = cleaner.transform(data)"
      ],
      "execution_count": 0,
      "outputs": []
    },
    {
      "cell_type": "code",
      "metadata": {
        "id": "LJAbIoiXLmhy",
        "colab_type": "code",
        "colab": {
          "base_uri": "https://localhost:8080/",
          "height": 183
        },
        "outputId": "191278d7-f797-41ba-b086-54cb3ca24cbb"
      },
      "source": [
        "clean_data.columns"
      ],
      "execution_count": 49,
      "outputs": [
        {
          "output_type": "execute_result",
          "data": {
            "text/plain": [
              "['class',\n",
              " 'text',\n",
              " 'length',\n",
              " 'label',\n",
              " 'token_text',\n",
              " 'stop_token',\n",
              " 'c_vec',\n",
              " 'tf_idf',\n",
              " 'features']"
            ]
          },
          "metadata": {
            "tags": []
          },
          "execution_count": 49
        }
      ]
    },
    {
      "cell_type": "code",
      "metadata": {
        "id": "zTxnoBYLLp5W",
        "colab_type": "code",
        "colab": {}
      },
      "source": [
        "clean_data = clean_data.select('label','features')"
      ],
      "execution_count": 0,
      "outputs": []
    },
    {
      "cell_type": "code",
      "metadata": {
        "id": "z1CHC_jaLuoy",
        "colab_type": "code",
        "colab": {
          "base_uri": "https://localhost:8080/",
          "height": 498
        },
        "outputId": "526445e3-49a0-4a62-9d85-7b0d2c96f7f7"
      },
      "source": [
        "clean_data.show()"
      ],
      "execution_count": 51,
      "outputs": [
        {
          "output_type": "stream",
          "text": [
            "+-----+--------------------+\n",
            "|label|            features|\n",
            "+-----+--------------------+\n",
            "|  0.0|(13424,[7,11,31,6...|\n",
            "|  0.0|(13424,[0,24,297,...|\n",
            "|  1.0|(13424,[2,13,19,3...|\n",
            "|  0.0|(13424,[0,70,80,1...|\n",
            "|  0.0|(13424,[36,134,31...|\n",
            "|  1.0|(13424,[10,60,139...|\n",
            "|  0.0|(13424,[10,53,103...|\n",
            "|  0.0|(13424,[125,184,4...|\n",
            "|  1.0|(13424,[1,47,118,...|\n",
            "|  1.0|(13424,[0,1,13,27...|\n",
            "|  0.0|(13424,[18,43,120...|\n",
            "|  1.0|(13424,[8,17,37,8...|\n",
            "|  1.0|(13424,[13,30,47,...|\n",
            "|  0.0|(13424,[39,96,217...|\n",
            "|  0.0|(13424,[552,1697,...|\n",
            "|  1.0|(13424,[30,109,11...|\n",
            "|  0.0|(13424,[82,214,47...|\n",
            "|  0.0|(13424,[0,2,49,13...|\n",
            "|  0.0|(13424,[0,74,105,...|\n",
            "|  1.0|(13424,[4,30,33,5...|\n",
            "+-----+--------------------+\n",
            "only showing top 20 rows\n",
            "\n"
          ],
          "name": "stdout"
        }
      ]
    },
    {
      "cell_type": "code",
      "metadata": {
        "id": "UWYc_YBtLw8m",
        "colab_type": "code",
        "colab": {}
      },
      "source": [
        "train,test = clean_data.randomSplit([0.7,0.3])"
      ],
      "execution_count": 0,
      "outputs": []
    },
    {
      "cell_type": "code",
      "metadata": {
        "id": "WUYxNcpZL2ng",
        "colab_type": "code",
        "colab": {}
      },
      "source": [
        "spam_detector = nb.fit(train)"
      ],
      "execution_count": 0,
      "outputs": []
    },
    {
      "cell_type": "code",
      "metadata": {
        "id": "h9eVfz6lL5kl",
        "colab_type": "code",
        "colab": {}
      },
      "source": [
        "test_results = spam_detector.transform(test)"
      ],
      "execution_count": 0,
      "outputs": []
    },
    {
      "cell_type": "code",
      "metadata": {
        "id": "viGKE8k3MB-q",
        "colab_type": "code",
        "colab": {
          "base_uri": "https://localhost:8080/",
          "height": 498
        },
        "outputId": "05f27feb-a685-41da-d3ef-0279666e7b8b"
      },
      "source": [
        "test_results.show()"
      ],
      "execution_count": 55,
      "outputs": [
        {
          "output_type": "stream",
          "text": [
            "+-----+--------------------+--------------------+--------------------+----------+\n",
            "|label|            features|       rawPrediction|         probability|prediction|\n",
            "+-----+--------------------+--------------------+--------------------+----------+\n",
            "|  0.0|(13424,[0,1,2,13,...|[-610.85546689897...|[1.0,3.7829297063...|       0.0|\n",
            "|  0.0|(13424,[0,1,4,50,...|[-848.43985695122...|[1.0,4.5683403142...|       0.0|\n",
            "|  0.0|(13424,[0,1,14,78...|[-690.21355905714...|[1.0,8.0598472485...|       0.0|\n",
            "|  0.0|(13424,[0,1,15,20...|[-673.41547015550...|[1.0,4.8212392214...|       0.0|\n",
            "|  0.0|(13424,[0,1,18,20...|[-831.53281889534...|[1.0,3.5555083574...|       0.0|\n",
            "|  0.0|(13424,[0,1,27,88...|[-1527.3447817835...|[0.99999999472874...|       0.0|\n",
            "|  0.0|(13424,[0,1,43,69...|[-615.20663726364...|[0.99836287729809...|       0.0|\n",
            "|  0.0|(13424,[0,1,146,1...|[-251.11225743114...|[0.78763917898146...|       0.0|\n",
            "|  0.0|(13424,[0,1,416,6...|[-301.56982978764...|[0.99999999999999...|       0.0|\n",
            "|  0.0|(13424,[0,2,3,5,3...|[-488.89055965605...|[1.0,7.3332705725...|       0.0|\n",
            "|  0.0|(13424,[0,2,4,5,7...|[-990.03621852717...|[1.0,3.1402827348...|       0.0|\n",
            "|  0.0|(13424,[0,2,4,5,1...|[-1623.1177675758...|[1.0,1.0920844123...|       0.0|\n",
            "|  0.0|(13424,[0,2,4,8,2...|[-1425.6664792709...|[1.0,6.9646605473...|       0.0|\n",
            "|  0.0|(13424,[0,2,4,25,...|[-421.96505573097...|[1.0,2.9552143179...|       0.0|\n",
            "|  0.0|(13424,[0,2,4,40,...|[-1578.9320989175...|[0.99999991835975...|       0.0|\n",
            "|  0.0|(13424,[0,2,4,128...|[-667.19370022770...|[1.0,6.1811970548...|       0.0|\n",
            "|  0.0|(13424,[0,2,7,8,3...|[-1141.7502027656...|[1.0,6.0092643639...|       0.0|\n",
            "|  0.0|(13424,[0,2,7,8,1...|[-452.66490145408...|[1.0,1.3954934604...|       0.0|\n",
            "|  0.0|(13424,[0,2,7,11,...|[-1418.3096073750...|[1.0,4.1682117341...|       0.0|\n",
            "|  0.0|(13424,[0,2,7,128...|[-238.49185987798...|[1.0,1.2256849347...|       0.0|\n",
            "+-----+--------------------+--------------------+--------------------+----------+\n",
            "only showing top 20 rows\n",
            "\n"
          ],
          "name": "stdout"
        }
      ]
    },
    {
      "cell_type": "code",
      "metadata": {
        "id": "nwRziZY9MGPt",
        "colab_type": "code",
        "colab": {}
      },
      "source": [
        "# evaluate results\n",
        "from pyspark.ml.evaluation import MulticlassClassificationEvaluator"
      ],
      "execution_count": 0,
      "outputs": []
    },
    {
      "cell_type": "code",
      "metadata": {
        "id": "4fdoJb2dMO-a",
        "colab_type": "code",
        "colab": {}
      },
      "source": [
        "acc_eval = MulticlassClassificationEvaluator(metricName='accuracy')"
      ],
      "execution_count": 0,
      "outputs": []
    },
    {
      "cell_type": "code",
      "metadata": {
        "id": "wU0TUBspMSIA",
        "colab_type": "code",
        "colab": {}
      },
      "source": [
        "acc = acc_eval.evaluate(test_results)"
      ],
      "execution_count": 0,
      "outputs": []
    },
    {
      "cell_type": "code",
      "metadata": {
        "id": "qTKenaomMuUa",
        "colab_type": "code",
        "colab": {
          "base_uri": "https://localhost:8080/",
          "height": 54
        },
        "outputId": "70c75566-3797-4a64-b6c7-e70e5e2a67a7"
      },
      "source": [
        "print('Accuracy of NB model:')\n",
        "print(acc)"
      ],
      "execution_count": 60,
      "outputs": [
        {
          "output_type": "stream",
          "text": [
            "Accuracy of NB model:\n",
            "0.9122807017543859\n"
          ],
          "name": "stdout"
        }
      ]
    },
    {
      "cell_type": "code",
      "metadata": {
        "id": "5D1i9LCpM85s",
        "colab_type": "code",
        "colab": {}
      },
      "source": [
        ""
      ],
      "execution_count": 0,
      "outputs": []
    }
  ]
}